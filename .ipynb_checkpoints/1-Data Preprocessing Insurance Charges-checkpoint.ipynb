{
 "cells": [
  {
   "cell_type": "code",
   "execution_count": 2,
   "id": "f15164c8-005a-470c-81f4-5ded7af5072b",
   "metadata": {},
   "outputs": [],
   "source": [
    "import numpy as np\n",
    "import pandas as pd\n",
    "import matplotlib.pyplot as plt\n",
    "import seaborn as sns\n",
    "import plotly.graph_objects as go"
   ]
  },
  {
   "cell_type": "code",
   "execution_count": null,
   "id": "1ad3cc0f-8325-469e-8272-d34335cdf143",
   "metadata": {},
   "outputs": [],
   "source": [
    "data = pd.read_csv(\"J:/Data science/data/insurance data/insurance.csv\")\n",
    "data.head()"
   ]
  },
  {
   "cell_type": "code",
   "execution_count": null,
   "id": "330f02cb-8b3c-412e-b807-4e7169d3be7a",
   "metadata": {},
   "outputs": [],
   "source": [
    "df = data.copy()"
   ]
  },
  {
   "cell_type": "code",
   "execution_count": null,
   "id": "a17167a4-0a44-4499-9b0f-bc1fa0c9dbe4",
   "metadata": {},
   "outputs": [],
   "source": [
    "df.head()"
   ]
  },
  {
   "cell_type": "code",
   "execution_count": null,
   "id": "23b91fbd-3f0f-45fb-9600-379cb9e8b5a9",
   "metadata": {},
   "outputs": [],
   "source": [
    "df.describe()"
   ]
  },
  {
   "cell_type": "code",
   "execution_count": null,
   "id": "6e389af9-ad24-42b5-bd6e-9ee5abd02877",
   "metadata": {},
   "outputs": [],
   "source": [
    "correlation_matrix = df.corr(numeric_only=True)\n",
    "correlation_matrix"
   ]
  },
  {
   "cell_type": "code",
   "execution_count": null,
   "id": "d826e73f-08b0-4bf4-908f-f6dcbddce5ab",
   "metadata": {},
   "outputs": [],
   "source": [
    "plt.figure(figsize=(4,3))\n",
    "sns.heatmap(correlation_matrix, annot=True)\n",
    "plt.show()"
   ]
  },
  {
   "cell_type": "code",
   "execution_count": null,
   "id": "f66a54df-b861-491f-a1ff-594fa2fb98dc",
   "metadata": {},
   "outputs": [],
   "source": [
    "df.dtypes"
   ]
  },
  {
   "cell_type": "code",
   "execution_count": null,
   "id": "7fb4d66a-7207-481a-8a79-14d2581555ce",
   "metadata": {},
   "outputs": [],
   "source": [
    "# Convert 'charges' column to float64\n",
    "df['charges'] = pd.to_numeric(df['charges'], errors='coerce')"
   ]
  },
  {
   "cell_type": "code",
   "execution_count": null,
   "id": "14291d09-1842-4c3a-81d1-7a6dc8d8fe11",
   "metadata": {},
   "outputs": [],
   "source": [
    "df.charges.dtype"
   ]
  },
  {
   "cell_type": "code",
   "execution_count": null,
   "id": "7a0d9f15-5ca5-4aee-a696-65d92f617433",
   "metadata": {},
   "outputs": [],
   "source": [
    "text_columns = df.select_dtypes(include=['object']).columns\n",
    "text_columns"
   ]
  },
  {
   "cell_type": "code",
   "execution_count": null,
   "id": "55684b01-de2f-476c-a05e-9ee632700da5",
   "metadata": {},
   "outputs": [],
   "source": [
    "def val_cont_df(df):\n",
    "    # Identify text (categorical) columns\n",
    "    text_columns = df.select_dtypes(include=['object', 'category']).columns\n",
    "    # List to store value_counts DataFrames\n",
    "    value_counts_dfs = []\n",
    "    \n",
    "    # Iterate over text columns and compute value_counts\n",
    "    for col in text_columns:\n",
    "        value_counts = df[col].value_counts().reset_index()\n",
    "        value_counts.columns = ['Value', 'Count']\n",
    "        value_counts['Column'] = col\n",
    "        value_counts_dfs.append(value_counts)\n",
    "\n",
    "    # Concatenate all DataFrames\n",
    "    result_df = pd.concat(value_counts_dfs, ignore_index=True)\n",
    "    return result_df\n",
    "    \n"
   ]
  },
  {
   "cell_type": "code",
   "execution_count": null,
   "id": "7c3a684f-b352-4262-b819-ad220d2e51a6",
   "metadata": {},
   "outputs": [],
   "source": [
    "result_df = val_cont_df(df)\n",
    "result_df"
   ]
  },
  {
   "cell_type": "markdown",
   "id": "3f41130a-96f6-49be-9eb9-bc776cb641f4",
   "metadata": {},
   "source": [
    "### Edit sex column"
   ]
  },
  {
   "cell_type": "code",
   "execution_count": null,
   "id": "879b385e-437b-4e9e-943a-54d3a858f990",
   "metadata": {},
   "outputs": [],
   "source": [
    "# Mapping dictionary\n",
    "gender_map = {\n",
    "    'male': 'M',\n",
    "    'man': 'M',\n",
    "    'female': 'F',\n",
    "    'woman': 'F',\n",
    "}\n",
    "df['sex'] = df['sex'].map(gender_map)"
   ]
  },
  {
   "cell_type": "code",
   "execution_count": null,
   "id": "04a63924-37a5-40a2-936e-ce75c85cb02c",
   "metadata": {},
   "outputs": [],
   "source": [
    "df.sex.value_counts()"
   ]
  },
  {
   "cell_type": "code",
   "execution_count": null,
   "id": "3ae9715d-bdb6-4213-bcad-e882e8668f3d",
   "metadata": {},
   "outputs": [],
   "source": [
    "val_count = val_cont_df(df)\n",
    "val_count"
   ]
  },
  {
   "cell_type": "code",
   "execution_count": null,
   "id": "9e91baad-df70-4daf-9b8f-40671440f51c",
   "metadata": {},
   "outputs": [],
   "source": [
    "df.region.dtype"
   ]
  },
  {
   "cell_type": "code",
   "execution_count": null,
   "id": "ea157f0f-21aa-4228-8188-cd060f8f736c",
   "metadata": {},
   "outputs": [],
   "source": [
    "# Define the function\n",
    "def correct_region(region):\n",
    "    if isinstance(region, str):\n",
    "        return region.lower()\n",
    "    else:\n",
    "        return np.nan  # Handle missing/invalid values\n"
   ]
  },
  {
   "cell_type": "code",
   "execution_count": null,
   "id": "d1e3d0e5-546a-485a-bcc4-c7eff8405fa1",
   "metadata": {},
   "outputs": [],
   "source": [
    "# Apply the function\n",
    "df['region'] = df['region'].apply(correct_region)"
   ]
  },
  {
   "cell_type": "code",
   "execution_count": null,
   "id": "d69b4ea2-d378-4aab-acab-bc169361c50e",
   "metadata": {},
   "outputs": [],
   "source": [
    "df.region.value_counts()"
   ]
  },
  {
   "cell_type": "code",
   "execution_count": null,
   "id": "56e61f65-6687-44f8-b117-8f8ee657f9ba",
   "metadata": {},
   "outputs": [],
   "source": [
    "valcount = val_cont_df(df)\n",
    "valcount"
   ]
  },
  {
   "cell_type": "code",
   "execution_count": null,
   "id": "e9c777c3-4e35-467c-ae15-7fd0c03f9880",
   "metadata": {},
   "outputs": [],
   "source": [
    "df.shape"
   ]
  },
  {
   "cell_type": "code",
   "execution_count": null,
   "id": "f015f37a-9756-4031-802b-cd1548c3ac96",
   "metadata": {},
   "outputs": [],
   "source": [
    "df.isna().sum()"
   ]
  },
  {
   "cell_type": "markdown",
   "id": "82ce266e-3769-4615-bf9d-1cea0f5b1996",
   "metadata": {},
   "source": [
    "## impute age, bmi,charges with mean"
   ]
  },
  {
   "cell_type": "code",
   "execution_count": null,
   "id": "5754d9b1-06c7-465b-8385-4b627736205f",
   "metadata": {},
   "outputs": [],
   "source": [
    "# Impute float variables with mean\n",
    "float_cols = ['age', 'bmi', 'charges']\n",
    "df[float_cols] = df[float_cols].fillna(df[float_cols].mean())"
   ]
  },
  {
   "cell_type": "markdown",
   "id": "0accd9d1-ca91-40e3-83eb-ab78cf4684cd",
   "metadata": {},
   "source": [
    "## Impute Discrete Variable (children) with Median"
   ]
  },
  {
   "cell_type": "code",
   "execution_count": null,
   "id": "b2ab85b4-3337-4eb7-926f-e15ea4a624a9",
   "metadata": {},
   "outputs": [],
   "source": [
    "# Impute discrete variable with median\n",
    "df['children'] = df['children'].fillna(df['children'].median())"
   ]
  },
  {
   "cell_type": "markdown",
   "id": "3e7aed59-6056-4bf3-bdb3-6a96a5139faa",
   "metadata": {},
   "source": [
    "### Encode Categorical Variablesm by OneHotEncoder for nominal data"
   ]
  },
  {
   "cell_type": "code",
   "execution_count": null,
   "id": "5eeba8d7-f0ee-4283-8dac-fc92f4734c39",
   "metadata": {},
   "outputs": [],
   "source": [
    "from sklearn.impute import KNNImputer\n",
    "from sklearn.preprocessing import OneHotEncoder"
   ]
  },
  {
   "cell_type": "code",
   "execution_count": null,
   "id": "29646e23-e804-4843-a3cc-d9b72c79fbc6",
   "metadata": {},
   "outputs": [],
   "source": [
    "df.columns"
   ]
  },
  {
   "cell_type": "code",
   "execution_count": null,
   "id": "b246eb19-3ab4-4bc3-a027-48f3f137eb8f",
   "metadata": {},
   "outputs": [],
   "source": [
    "# Initialize OneHotEncoder\n",
    "encoder = OneHotEncoder(sparse_output=False, handle_unknown='ignore')\n",
    "\n",
    "# Fit and transform categorical columns\n",
    "encoded_data = encoder.fit_transform(df[['sex', 'smoker', 'region']])\n",
    "\n",
    "# Create a DataFrame from the encoded data\n",
    "encoded_df = pd.DataFrame(encoded_data, columns=encoder.get_feature_names_out(['sex', 'smoker', 'region']))\n",
    "\n",
    "# Drop original categorical columns and concatenate encoded columns\n",
    "df2 = df.drop(columns=['sex', 'smoker', 'region'])\n",
    "df2 = pd.concat([df2, encoded_df], axis=1)\n"
   ]
  },
  {
   "cell_type": "code",
   "execution_count": null,
   "id": "2b2bc284-6d97-4400-b5c4-077524690503",
   "metadata": {},
   "outputs": [],
   "source": [
    "df2.head(2)"
   ]
  },
  {
   "cell_type": "code",
   "execution_count": null,
   "id": "6c91b8f5-3ba2-4f1e-b015-5ef321f9d492",
   "metadata": {},
   "outputs": [],
   "source": [
    "df2.shape"
   ]
  },
  {
   "cell_type": "code",
   "execution_count": null,
   "id": "be0c0a21-6c4c-4ab8-815a-c1bf8f92e13c",
   "metadata": {},
   "outputs": [],
   "source": [
    "df.head(2)"
   ]
  },
  {
   "cell_type": "code",
   "execution_count": null,
   "id": "a0ad303e-51a4-4df7-b9b6-6705137a7793",
   "metadata": {},
   "outputs": [],
   "source": [
    "df.shape"
   ]
  },
  {
   "cell_type": "code",
   "execution_count": null,
   "id": "fbe9906f-71b4-4502-897a-4bf110693f92",
   "metadata": {},
   "outputs": [],
   "source": [
    "df2.head()"
   ]
  },
  {
   "cell_type": "markdown",
   "id": "879e61ae-5370-4133-8dbe-8f1395dd5f7d",
   "metadata": {},
   "source": [
    "## Impute Categorical Variables with KNN"
   ]
  },
  {
   "cell_type": "code",
   "execution_count": null,
   "id": "689ccc12-2975-44dc-be9a-996a7e559436",
   "metadata": {},
   "outputs": [],
   "source": [
    "# Apply KNN Imputation\n",
    "imputer = KNNImputer(n_neighbors=3)\n",
    "df_imputed = pd.DataFrame(imputer.fit_transform(df2), columns=df2.columns)"
   ]
  },
  {
   "cell_type": "code",
   "execution_count": null,
   "id": "12a70763-5bf7-4445-9673-08bf31e5d419",
   "metadata": {},
   "outputs": [],
   "source": [
    "df_imputed.head()"
   ]
  },
  {
   "cell_type": "code",
   "execution_count": null,
   "id": "ac5e719f-e39c-4d7b-9228-df40eecb14be",
   "metadata": {},
   "outputs": [],
   "source": [
    "df_imputed.isna().sum()"
   ]
  },
  {
   "cell_type": "code",
   "execution_count": null,
   "id": "f378396b-cd1b-4c57-8a2f-eac638424acb",
   "metadata": {},
   "outputs": [],
   "source": [
    "# # Inverse transform one-hot encoded columns\n",
    "# decoded_data = encoder.inverse_transform(df_imputed[encoder.get_feature_names_out(['sex', 'smoker', 'region'])])\n",
    "\n",
    "# # Add decoded columns back to the DataFrame\n",
    "# df_imputed[['sex', 'smoker', 'region']] = decoded_data\n",
    "\n",
    "# # Drop one-hot encoded columns\n",
    "# df_imputed2 = df_imputed.drop(columns=encoder.get_feature_names_out(['sex', 'smoker', 'region']))"
   ]
  },
  {
   "cell_type": "code",
   "execution_count": null,
   "id": "75e9c93d-0d18-4a62-9737-2596f7b0496c",
   "metadata": {},
   "outputs": [],
   "source": [
    "df_imputed.head()"
   ]
  },
  {
   "cell_type": "code",
   "execution_count": null,
   "id": "f2d1ba3a-cca8-45ad-ad50-591392e7008f",
   "metadata": {},
   "outputs": [],
   "source": [
    "df_imputed.duplicated().sum()"
   ]
  },
  {
   "cell_type": "code",
   "execution_count": null,
   "id": "611e0955-823c-4765-be51-1f0c76eb3531",
   "metadata": {},
   "outputs": [],
   "source": [
    "df_imputed.drop_duplicates(inplace=True)"
   ]
  },
  {
   "cell_type": "code",
   "execution_count": null,
   "id": "785a7f4d-6e85-476d-9d1c-650ce77fbd4f",
   "metadata": {},
   "outputs": [],
   "source": [
    "df_imputed.columns"
   ]
  },
  {
   "cell_type": "code",
   "execution_count": null,
   "id": "52110734-ba81-4d12-ad48-74d3ba7fb9a5",
   "metadata": {},
   "outputs": [],
   "source": [
    "df_imputed.drop(columns=['sex_nan','smoker_nan','region_nan'],inplace=True)"
   ]
  },
  {
   "cell_type": "code",
   "execution_count": null,
   "id": "eb3ddc11-6238-45f0-bc70-efac535cfd5a",
   "metadata": {},
   "outputs": [],
   "source": [
    "df_imputed.columns"
   ]
  },
  {
   "cell_type": "code",
   "execution_count": null,
   "id": "ec6a5714-0af4-4e38-b852-03f5f6afa27a",
   "metadata": {},
   "outputs": [],
   "source": [
    "df_imputed.shape"
   ]
  },
  {
   "cell_type": "code",
   "execution_count": null,
   "id": "c21ec27c-0cc8-4300-bcca-47028a5b557b",
   "metadata": {},
   "outputs": [],
   "source": [
    "df_imputed.to_csv('Insurance_data_processed_imputed.csv',index=False)"
   ]
  },
  {
   "cell_type": "code",
   "execution_count": null,
   "id": "7b41325e-a13a-4532-afbd-0864506cc2ee",
   "metadata": {},
   "outputs": [],
   "source": [
    "dd = pd.read_csv('Insurance_data_processed_imputed.csv')"
   ]
  },
  {
   "cell_type": "code",
   "execution_count": null,
   "id": "29def771-721d-4a83-adcf-964d01896fbf",
   "metadata": {},
   "outputs": [],
   "source": [
    "dd.head()"
   ]
  },
  {
   "cell_type": "code",
   "execution_count": null,
   "id": "86ebaa20-c143-481b-964e-7060037937b8",
   "metadata": {},
   "outputs": [],
   "source": [
    "dd.columns"
   ]
  },
  {
   "cell_type": "code",
   "execution_count": null,
   "id": "7cb7e771-debe-474c-b41f-1881adc22a81",
   "metadata": {},
   "outputs": [],
   "source": [
    "dd['sex'] = dd.apply(lambda row:'F' if row['sex_F']== 1.0 else 'M', axis=1)\n",
    "dd['smoker'] = dd.apply(lambda row:'no' if row['smoker_no']==1.0 else 'yes', axis=1)\n",
    "dd['region'] = dd.apply(lambda row:'northeast' if row['region_northeast'] == 1.0 else\n",
    "                                   'northwest' if row['region_northwest'] == 1.0 else\n",
    "                                   'southeast' if row['region_southeast'] == 1.0 else\n",
    "                                   'southwest', axis=1)"
   ]
  },
  {
   "cell_type": "code",
   "execution_count": null,
   "id": "c9c7fd21-7c3e-4d3f-9c9b-ae5c2a030241",
   "metadata": {},
   "outputs": [],
   "source": [
    "dd = dd.drop(columns=['sex_F', 'sex_M', 'smoker_no', 'smoker_yes', \n",
    "                      'region_northeast', 'region_northwest', 'region_southeast', 'region_southwest'])"
   ]
  },
  {
   "cell_type": "code",
   "execution_count": null,
   "id": "94c002e1-0ab0-4cb0-8e68-90a0be063bfc",
   "metadata": {},
   "outputs": [],
   "source": [
    "dd.head()"
   ]
  },
  {
   "cell_type": "code",
   "execution_count": null,
   "id": "32c4e182-d5be-42e8-9ed6-6f44a71f06f7",
   "metadata": {},
   "outputs": [],
   "source": [
    "dd.isna().sum()"
   ]
  },
  {
   "cell_type": "code",
   "execution_count": null,
   "id": "76ddcad1-a5b4-4a41-b883-3aa1f29b4da2",
   "metadata": {},
   "outputs": [],
   "source": [
    "dd.to_csv('Insurance_data_processed_imputed.csv', index=False)"
   ]
  },
  {
   "cell_type": "code",
   "execution_count": 3,
   "id": "6032035c-0c9b-4bc6-a5d2-3f581e11d57f",
   "metadata": {},
   "outputs": [
    {
     "data": {
      "text/html": [
       "<div>\n",
       "<style scoped>\n",
       "    .dataframe tbody tr th:only-of-type {\n",
       "        vertical-align: middle;\n",
       "    }\n",
       "\n",
       "    .dataframe tbody tr th {\n",
       "        vertical-align: top;\n",
       "    }\n",
       "\n",
       "    .dataframe thead th {\n",
       "        text-align: right;\n",
       "    }\n",
       "</style>\n",
       "<table border=\"1\" class=\"dataframe\">\n",
       "  <thead>\n",
       "    <tr style=\"text-align: right;\">\n",
       "      <th></th>\n",
       "      <th>age</th>\n",
       "      <th>bmi</th>\n",
       "      <th>children</th>\n",
       "      <th>charges</th>\n",
       "      <th>sex</th>\n",
       "      <th>smoker</th>\n",
       "      <th>region</th>\n",
       "    </tr>\n",
       "  </thead>\n",
       "  <tbody>\n",
       "    <tr>\n",
       "      <th>0</th>\n",
       "      <td>19.0</td>\n",
       "      <td>27.900</td>\n",
       "      <td>0.0</td>\n",
       "      <td>16884.924000</td>\n",
       "      <td>F</td>\n",
       "      <td>yes</td>\n",
       "      <td>southwest</td>\n",
       "    </tr>\n",
       "    <tr>\n",
       "      <th>1</th>\n",
       "      <td>18.0</td>\n",
       "      <td>33.770</td>\n",
       "      <td>1.0</td>\n",
       "      <td>1725.552300</td>\n",
       "      <td>M</td>\n",
       "      <td>no</td>\n",
       "      <td>southeast</td>\n",
       "    </tr>\n",
       "    <tr>\n",
       "      <th>2</th>\n",
       "      <td>28.0</td>\n",
       "      <td>33.000</td>\n",
       "      <td>3.0</td>\n",
       "      <td>13424.206937</td>\n",
       "      <td>M</td>\n",
       "      <td>no</td>\n",
       "      <td>southeast</td>\n",
       "    </tr>\n",
       "    <tr>\n",
       "      <th>3</th>\n",
       "      <td>33.0</td>\n",
       "      <td>22.705</td>\n",
       "      <td>0.0</td>\n",
       "      <td>13424.206937</td>\n",
       "      <td>M</td>\n",
       "      <td>no</td>\n",
       "      <td>northwest</td>\n",
       "    </tr>\n",
       "    <tr>\n",
       "      <th>4</th>\n",
       "      <td>32.0</td>\n",
       "      <td>28.880</td>\n",
       "      <td>0.0</td>\n",
       "      <td>13424.206937</td>\n",
       "      <td>M</td>\n",
       "      <td>no</td>\n",
       "      <td>northwest</td>\n",
       "    </tr>\n",
       "  </tbody>\n",
       "</table>\n",
       "</div>"
      ],
      "text/plain": [
       "    age     bmi  children       charges sex smoker     region\n",
       "0  19.0  27.900       0.0  16884.924000   F    yes  southwest\n",
       "1  18.0  33.770       1.0   1725.552300   M     no  southeast\n",
       "2  28.0  33.000       3.0  13424.206937   M     no  southeast\n",
       "3  33.0  22.705       0.0  13424.206937   M     no  northwest\n",
       "4  32.0  28.880       0.0  13424.206937   M     no  northwest"
      ]
     },
     "execution_count": 3,
     "metadata": {},
     "output_type": "execute_result"
    }
   ],
   "source": [
    "final_data = pd.read_csv('Insurance_data_processed_imputed.csv')\n",
    "final_data.head()"
   ]
  },
  {
   "cell_type": "code",
   "execution_count": 4,
   "id": "b5963479-0396-4bdf-b2f2-8514bc13ded4",
   "metadata": {},
   "outputs": [
    {
     "data": {
      "text/html": [
       "<div>\n",
       "<style scoped>\n",
       "    .dataframe tbody tr th:only-of-type {\n",
       "        vertical-align: middle;\n",
       "    }\n",
       "\n",
       "    .dataframe tbody tr th {\n",
       "        vertical-align: top;\n",
       "    }\n",
       "\n",
       "    .dataframe thead th {\n",
       "        text-align: right;\n",
       "    }\n",
       "</style>\n",
       "<table border=\"1\" class=\"dataframe\">\n",
       "  <thead>\n",
       "    <tr style=\"text-align: right;\">\n",
       "      <th></th>\n",
       "      <th>age</th>\n",
       "      <th>bmi</th>\n",
       "      <th>children</th>\n",
       "      <th>charges</th>\n",
       "      <th>sex</th>\n",
       "      <th>smoker</th>\n",
       "      <th>region</th>\n",
       "    </tr>\n",
       "  </thead>\n",
       "  <tbody>\n",
       "    <tr>\n",
       "      <th>233</th>\n",
       "      <td>35.214623</td>\n",
       "      <td>30.56055</td>\n",
       "      <td>1.0</td>\n",
       "      <td>13424.206937</td>\n",
       "      <td>M</td>\n",
       "      <td>no</td>\n",
       "      <td>southwest</td>\n",
       "    </tr>\n",
       "    <tr>\n",
       "      <th>247</th>\n",
       "      <td>35.214623</td>\n",
       "      <td>30.56055</td>\n",
       "      <td>1.0</td>\n",
       "      <td>13424.206937</td>\n",
       "      <td>M</td>\n",
       "      <td>no</td>\n",
       "      <td>southeast</td>\n",
       "    </tr>\n",
       "    <tr>\n",
       "      <th>559</th>\n",
       "      <td>35.214623</td>\n",
       "      <td>30.56055</td>\n",
       "      <td>1.0</td>\n",
       "      <td>13424.206937</td>\n",
       "      <td>M</td>\n",
       "      <td>no</td>\n",
       "      <td>southwest</td>\n",
       "    </tr>\n",
       "    <tr>\n",
       "      <th>1048</th>\n",
       "      <td>35.214623</td>\n",
       "      <td>30.56055</td>\n",
       "      <td>1.0</td>\n",
       "      <td>13424.206937</td>\n",
       "      <td>M</td>\n",
       "      <td>yes</td>\n",
       "      <td>northeast</td>\n",
       "    </tr>\n",
       "    <tr>\n",
       "      <th>1113</th>\n",
       "      <td>35.214623</td>\n",
       "      <td>30.56055</td>\n",
       "      <td>1.0</td>\n",
       "      <td>13424.206937</td>\n",
       "      <td>M</td>\n",
       "      <td>yes</td>\n",
       "      <td>southwest</td>\n",
       "    </tr>\n",
       "    <tr>\n",
       "      <th>1248</th>\n",
       "      <td>35.214623</td>\n",
       "      <td>30.56055</td>\n",
       "      <td>1.0</td>\n",
       "      <td>13424.206937</td>\n",
       "      <td>M</td>\n",
       "      <td>yes</td>\n",
       "      <td>southwest</td>\n",
       "    </tr>\n",
       "    <tr>\n",
       "      <th>1304</th>\n",
       "      <td>35.214623</td>\n",
       "      <td>30.56055</td>\n",
       "      <td>1.0</td>\n",
       "      <td>13424.206937</td>\n",
       "      <td>M</td>\n",
       "      <td>no</td>\n",
       "      <td>southwest</td>\n",
       "    </tr>\n",
       "  </tbody>\n",
       "</table>\n",
       "</div>"
      ],
      "text/plain": [
       "            age       bmi  children       charges sex smoker     region\n",
       "233   35.214623  30.56055       1.0  13424.206937   M     no  southwest\n",
       "247   35.214623  30.56055       1.0  13424.206937   M     no  southeast\n",
       "559   35.214623  30.56055       1.0  13424.206937   M     no  southwest\n",
       "1048  35.214623  30.56055       1.0  13424.206937   M    yes  northeast\n",
       "1113  35.214623  30.56055       1.0  13424.206937   M    yes  southwest\n",
       "1248  35.214623  30.56055       1.0  13424.206937   M    yes  southwest\n",
       "1304  35.214623  30.56055       1.0  13424.206937   M     no  southwest"
      ]
     },
     "execution_count": 4,
     "metadata": {},
     "output_type": "execute_result"
    }
   ],
   "source": [
    "final_data[final_data.duplicated()]"
   ]
  },
  {
   "cell_type": "code",
   "execution_count": 7,
   "id": "2dc9a12d-24e5-4b63-ab7e-c3e0f668f55b",
   "metadata": {},
   "outputs": [
    {
     "data": {
      "text/plain": [
       "np.int64(7)"
      ]
     },
     "execution_count": 7,
     "metadata": {},
     "output_type": "execute_result"
    }
   ],
   "source": [
    "final_data.duplicated().sum()"
   ]
  },
  {
   "cell_type": "code",
   "execution_count": 8,
   "id": "0a2930d4-eaaa-47d4-8a0e-0d08ad29782a",
   "metadata": {},
   "outputs": [],
   "source": [
    "final_data.drop_duplicates(inplace=True)"
   ]
  },
  {
   "cell_type": "code",
   "execution_count": 9,
   "id": "0d27fd4f-2f5d-4ab6-9621-eca42a9eaf3f",
   "metadata": {},
   "outputs": [
    {
     "data": {
      "text/plain": [
       "np.int64(0)"
      ]
     },
     "execution_count": 9,
     "metadata": {},
     "output_type": "execute_result"
    }
   ],
   "source": [
    "final_data.duplicated().sum()"
   ]
  },
  {
   "cell_type": "code",
   "execution_count": 10,
   "id": "f560b87d-a91a-4aac-8d40-34cebb144bdd",
   "metadata": {},
   "outputs": [],
   "source": [
    "final_data.to_csv('Insurance_data_processed_imputed.csv',index=False)"
   ]
  }
 ],
 "metadata": {
  "kernelspec": {
   "display_name": "Python 3 (ipykernel)",
   "language": "python",
   "name": "python3"
  },
  "language_info": {
   "codemirror_mode": {
    "name": "ipython",
    "version": 3
   },
   "file_extension": ".py",
   "mimetype": "text/x-python",
   "name": "python",
   "nbconvert_exporter": "python",
   "pygments_lexer": "ipython3",
   "version": "3.9.21"
  }
 },
 "nbformat": 4,
 "nbformat_minor": 5
}
