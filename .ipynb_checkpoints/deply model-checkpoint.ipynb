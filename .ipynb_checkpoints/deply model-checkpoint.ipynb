{
 "cells": [
  {
   "cell_type": "code",
   "execution_count": 1,
   "id": "6511bcf0-3646-47ed-a445-6d18257c17c7",
   "metadata": {},
   "outputs": [],
   "source": [
    "import pandas as pd"
   ]
  },
  {
   "cell_type": "code",
   "execution_count": 2,
   "id": "ddb26431-9e7d-4a0b-b7f2-b761a70b25db",
   "metadata": {},
   "outputs": [],
   "source": [
    "from fastapi import FastAPI, Request\n",
    "from fastapi.templating import Jinja2Templates\n",
    "from pydantic import BaseModel\n",
    "import pickle\n",
    "import uvicorn\n",
    "import numpy as np\n",
    "import pandas as pd\n",
    "from fastapi.middleware.cors import CORSMiddleware"
   ]
  },
  {
   "cell_type": "code",
   "execution_count": 14,
   "id": "e91f517f-e90c-4c3d-bdfd-f9c3762dea07",
   "metadata": {
    "scrolled": true
   },
   "outputs": [
    {
     "data": {
      "text/html": [
       "<div>\n",
       "<style scoped>\n",
       "    .dataframe tbody tr th:only-of-type {\n",
       "        vertical-align: middle;\n",
       "    }\n",
       "\n",
       "    .dataframe tbody tr th {\n",
       "        vertical-align: top;\n",
       "    }\n",
       "\n",
       "    .dataframe thead th {\n",
       "        text-align: right;\n",
       "    }\n",
       "</style>\n",
       "<table border=\"1\" class=\"dataframe\">\n",
       "  <thead>\n",
       "    <tr style=\"text-align: right;\">\n",
       "      <th></th>\n",
       "      <th>age</th>\n",
       "      <th>sex</th>\n",
       "      <th>bmi</th>\n",
       "      <th>children</th>\n",
       "      <th>smoker</th>\n",
       "      <th>region</th>\n",
       "    </tr>\n",
       "  </thead>\n",
       "  <tbody>\n",
       "    <tr>\n",
       "      <th>0</th>\n",
       "      <td>19</td>\n",
       "      <td>F</td>\n",
       "      <td>25.9</td>\n",
       "      <td>3</td>\n",
       "      <td>no</td>\n",
       "      <td>northeast</td>\n",
       "    </tr>\n",
       "  </tbody>\n",
       "</table>\n",
       "</div>"
      ],
      "text/plain": [
       "   age sex   bmi  children smoker     region\n",
       "0   19   F  25.9         3     no  northeast"
      ]
     },
     "execution_count": 14,
     "metadata": {},
     "output_type": "execute_result"
    }
   ],
   "source": [
    "new_data=pd.DataFrame({'age':19,'sex':'F','bmi':25.9,'children':3,'smoker':'no','region':'northeast'},index=[0])\n",
    "new_data"
   ]
  },
  {
   "cell_type": "code",
   "execution_count": 17,
   "id": "27a3e6ac-c897-4bfe-a7f1-2c20c97a0a0c",
   "metadata": {},
   "outputs": [],
   "source": [
    "# new_data['smoker'] = new_data['smoker'].map({'yes':1,'no':0})\n",
    "# new_data"
   ]
  },
  {
   "cell_type": "code",
   "execution_count": 3,
   "id": "3472e2bf-8f44-47e1-9210-915928266fe7",
   "metadata": {},
   "outputs": [],
   "source": [
    "model = pickle.load(open(\"GBR_model.pkl.\", \"rb\"))"
   ]
  },
  {
   "cell_type": "code",
   "execution_count": 18,
   "id": "a73ebe32-af04-4c45-a6a9-765d2e25184a",
   "metadata": {},
   "outputs": [
    {
     "data": {
      "text/plain": [
       "array([6792.4151861])"
      ]
     },
     "execution_count": 18,
     "metadata": {},
     "output_type": "execute_result"
    }
   ],
   "source": [
    "model.predict(new_data)"
   ]
  },
  {
   "cell_type": "code",
   "execution_count": null,
   "id": "afe66114-1119-49c7-8e95-9859276a3888",
   "metadata": {},
   "outputs": [],
   "source": []
  },
  {
   "cell_type": "code",
   "execution_count": 21,
   "id": "8c5f4022-bddd-41e3-b0f4-a5313895e80d",
   "metadata": {},
   "outputs": [],
   "source": [
    "from fastapi import FastAPI, Request\n",
    "from fastapi.templating import Jinja2Templates\n",
    "from pydantic import BaseModel\n",
    "import pickle\n",
    "import uvicorn\n",
    "import numpy as np\n",
    "import pandas as pd\n",
    "from fastapi.middleware.cors import CORSMiddleware\n",
    "\n",
    "\n",
    "app = FastAPI()\n",
    "\n",
    "# Enable CORS\n",
    "app.add_middleware(\n",
    "    CORSMiddleware,\n",
    "    allow_origins=[\"*\"],\n",
    "    allow_credentials=True,\n",
    "    allow_methods=[\"*\"],\n",
    "    allow_headers=[\"*\"],\n",
    ")\n",
    "\n",
    "\n",
    "templates = Jinja2Templates(directory=\"templates\")\n",
    "\n",
    "# Define Request Model\n",
    "class InsuranceInput(BaseModel):\n",
    "    age: int\n",
    "    sex: str\n",
    "    bmi: float\n",
    "    children: int\n",
    "    smoker: str\n",
    "    region: str\n",
    "\n",
    "# # Preprocess Inputs\n",
    "# region_map = {'Northwest': 0, 'Northeast': 1, 'Southeast': 2, 'Southwest': 3}\n",
    "# sex_map = {'M': 0, 'F': 1}\n",
    "# smoker_map = {'Yes': 1, 'No': 0}\n",
    "\n",
    "@app.get(\"/\")\n",
    "def home(request: Request):\n",
    "    return templates.TemplateResponse(\"index.html\", {\"request\": request})\n",
    "\n",
    "@app.post(\"/predict\")\n",
    "def predict_charges(input_data: InsuranceInput):\n",
    "    # Convert input to DataFrame following your test code logic\n",
    "    new_data = pd.DataFrame({\n",
    "        'age': [input_data.age],\n",
    "        'sex': [input_data.sex],\n",
    "        'bmi': [input_data.bmi],\n",
    "        'children': [input_data.children],\n",
    "        'smoker': [input_data.smoker],\n",
    "        'region': [input_data.region]\n",
    "    })\n",
    "    \n",
    "    # # Apply preprocessing\n",
    "    # new_data['smoker'] = new_data['smoker'].map(smoker_map)\n",
    "    # new_data.drop(columns=['sex', 'region'], inplace=True)\n",
    "    \n",
    "    # Predict\n",
    "    prediction = model.predict(new_data)[0]\n",
    "    return {\"predicted_charges\": round(float(prediction), 2)}\n"
   ]
  },
  {
   "cell_type": "code",
   "execution_count": 24,
   "id": "4c881253-ef44-470a-ad85-8ea667235731",
   "metadata": {},
   "outputs": [
    {
     "name": "stderr",
     "output_type": "stream",
     "text": [
      "INFO:     Started server process [31120]\n",
      "INFO:     Waiting for application startup.\n",
      "INFO:     Application startup complete.\n",
      "INFO:     Uvicorn running on http://0.0.0.0:8000 (Press CTRL+C to quit)\n"
     ]
    }
   ],
   "source": [
    "import threading\n",
    "import uvicorn\n",
    "\n",
    "def start_server():\n",
    "    uvicorn.run(app, host=\"0.0.0.0\", port=8000)\n",
    "\n",
    "if __name__ == \"__main__\":\n",
    "    server_thread = threading.Thread(target=start_server)\n",
    "    server_thread.start()"
   ]
  },
  {
   "cell_type": "code",
   "execution_count": 25,
   "id": "17218ca2-4e65-4762-9861-1ba43f7c8f2a",
   "metadata": {},
   "outputs": [
    {
     "name": "stderr",
     "output_type": "stream",
     "text": [
      "INFO:     Started server process [31120]\n",
      "INFO:     Waiting for application startup.\n",
      "INFO:     Application startup complete.\n",
      "ERROR:    [Errno 10048] error while attempting to bind on address ('0.0.0.0', 8000): only one usage of each socket address (protocol/network address/port) is normally permitted\n",
      "INFO:     Waiting for application shutdown.\n",
      "INFO:     Application shutdown complete.\n"
     ]
    }
   ],
   "source": [
    "import uvicorn\n",
    "from threading import Thread\n",
    "\n",
    "def start_server():\n",
    "    uvicorn.run(app, host=\"0.0.0.0\", port=8000)\n",
    "\n",
    "if __name__ == \"__main__\":\n",
    "    Thread(target=start_server).start()"
   ]
  },
  {
   "cell_type": "code",
   "execution_count": null,
   "id": "3f03c846-c8fa-448d-9f00-46d75ce5b119",
   "metadata": {},
   "outputs": [],
   "source": []
  },
  {
   "cell_type": "code",
   "execution_count": null,
   "id": "4dfe6b63-bb9d-4006-8270-2479468c8c1e",
   "metadata": {},
   "outputs": [],
   "source": []
  },
  {
   "cell_type": "code",
   "execution_count": null,
   "id": "554abfa2-e96b-45ad-acb5-dd4946548f6c",
   "metadata": {},
   "outputs": [],
   "source": []
  },
  {
   "cell_type": "code",
   "execution_count": null,
   "id": "b811ffa7-3a0b-4882-8919-9461ececf81b",
   "metadata": {},
   "outputs": [],
   "source": []
  },
  {
   "cell_type": "code",
   "execution_count": null,
   "id": "49c7621f-6cc0-4fc5-a0c4-a8de2fb52588",
   "metadata": {},
   "outputs": [],
   "source": []
  },
  {
   "cell_type": "code",
   "execution_count": 26,
   "id": "e33f7b95-9085-42f8-9efb-ecbbd2f37248",
   "metadata": {},
   "outputs": [
    {
     "name": "stderr",
     "output_type": "stream",
     "text": [
      "INFO:     Started server process [31120]\n",
      "INFO:     Waiting for application startup.\n",
      "INFO:     Application startup complete.\n",
      "ERROR:    [Errno 10048] error while attempting to bind on address ('0.0.0.0', 8000): only one usage of each socket address (protocol/network address/port) is normally permitted\n",
      "INFO:     Waiting for application shutdown.\n",
      "INFO:     Application shutdown complete.\n"
     ]
    }
   ],
   "source": [
    "import pickle\n",
    "import uvicorn\n",
    "import pandas as pd\n",
    "from fastapi import FastAPI, Request\n",
    "from fastapi.templating import Jinja2Templates\n",
    "from pydantic import BaseModel\n",
    "from fastapi.middleware.cors import CORSMiddleware\n",
    "from threading import Thread\n",
    "\n",
    "# Load the model\n",
    "model = pickle.load(open(\"GBR_model.pkl\", \"rb\"))\n",
    "\n",
    "# Initialize FastAPI app\n",
    "app = FastAPI()\n",
    "\n",
    "# Enable CORS\n",
    "app.add_middleware(\n",
    "    CORSMiddleware,\n",
    "    allow_origins=[\"*\"],\n",
    "    allow_credentials=True,\n",
    "    allow_methods=[\"*\"],\n",
    "    allow_headers=[\"*\"],\n",
    ")\n",
    "\n",
    "# Initialize Jinja2 templates\n",
    "templates = Jinja2Templates(directory=\"templates\")\n",
    "\n",
    "# Define Request Model\n",
    "class InsuranceInput(BaseModel):\n",
    "    age: int\n",
    "    sex: str\n",
    "    bmi: float\n",
    "    children: int\n",
    "    smoker: str\n",
    "    region: str\n",
    "\n",
    "# Home route to serve the HTML file\n",
    "@app.get(\"/\")\n",
    "def home(request: Request):\n",
    "    return templates.TemplateResponse(\"index.html\", {\"request\": request})\n",
    "\n",
    "# Prediction route\n",
    "@app.post(\"/predict\")\n",
    "def predict_charges(input_data: InsuranceInput):\n",
    "    # Convert input to DataFrame\n",
    "    new_data = pd.DataFrame({\n",
    "        'age': [input_data.age],\n",
    "        'sex': [input_data.sex],\n",
    "        'bmi': [input_data.bmi],\n",
    "        'children': [input_data.children],\n",
    "        'smoker': [input_data.smoker],\n",
    "        'region': [input_data.region]\n",
    "    })\n",
    "    \n",
    "    # Predict\n",
    "    prediction = model.predict(new_data)[0]\n",
    "    return {\"predicted_charges\": round(float(prediction), 2)}\n",
    "\n",
    "# Function to run the FastAPI server\n",
    "def run_server():\n",
    "    uvicorn.run(app, host=\"0.0.0.0\", port=8000)\n",
    "\n",
    "# Start the server in a separate thread (for Jupyter Notebook compatibility)\n",
    "if __name__ == \"__main__\":\n",
    "    server_thread = Thread(target=run_server)\n",
    "    server_thread.start()"
   ]
  },
  {
   "cell_type": "code",
   "execution_count": null,
   "id": "e5dd26e2-6825-4bd2-a614-fa10a61df756",
   "metadata": {},
   "outputs": [],
   "source": []
  },
  {
   "cell_type": "code",
   "execution_count": null,
   "id": "e64d23f9-c49e-4859-b395-e2a30c806233",
   "metadata": {},
   "outputs": [],
   "source": []
  },
  {
   "cell_type": "code",
   "execution_count": null,
   "id": "07c9727a-7013-40d5-ac3b-afb27e0e7eed",
   "metadata": {},
   "outputs": [],
   "source": []
  },
  {
   "cell_type": "code",
   "execution_count": 17,
   "id": "292886da-9c91-43b7-a125-f802769ed92b",
   "metadata": {},
   "outputs": [],
   "source": [
    "app = FastAPI()\n",
    "\n",
    "# Enable CORS\n",
    "app.add_middleware(\n",
    "    CORSMiddleware,\n",
    "    allow_origins=[\"*\"],\n",
    "    allow_credentials=True,\n",
    "    allow_methods=[\"*\"],\n",
    "    allow_headers=[\"*\"],\n",
    ")"
   ]
  },
  {
   "cell_type": "code",
   "execution_count": null,
   "id": "a3c9606b-1149-4f21-9c74-2fde7fcba4db",
   "metadata": {},
   "outputs": [],
   "source": []
  },
  {
   "cell_type": "code",
   "execution_count": 18,
   "id": "e1688b7e-586f-441d-aef5-253c165822b0",
   "metadata": {},
   "outputs": [],
   "source": [
    "templates = Jinja2Templates(directory=\"templates\")\n",
    "\n",
    "# Define Request Model\n",
    "class InsuranceInput(BaseModel):\n",
    "    age: int\n",
    "    sex: str\n",
    "    bmi: float\n",
    "    children: int\n",
    "    smoker: str\n",
    "    region: str\n",
    "\n",
    "# # Preprocess Inputs\n",
    "# region_map = {'Northwest': 0, 'Northeast': 1, 'Southeast': 2, 'Southwest': 3}\n",
    "# sex_map = {'Male': 0, 'Female': 1}\n",
    "# smoker_map = {'Yes': 1, 'No': 0}"
   ]
  },
  {
   "cell_type": "code",
   "execution_count": null,
   "id": "c5776d5b-9980-45b2-93fc-abf6d8e29234",
   "metadata": {},
   "outputs": [],
   "source": []
  },
  {
   "cell_type": "code",
   "execution_count": 8,
   "id": "cebfde57-b7c4-48f9-916a-5de4c92775bd",
   "metadata": {},
   "outputs": [],
   "source": [
    "@app.get(\"/\")\n",
    "def home(request: Request):\n",
    "    return templates.TemplateResponse(\"index.html\", {\"request\": request})\n",
    "\n",
    "@app.post(\"/predict\")\n",
    "def predict_charges(input_data: InsuranceInput):\n",
    "    # Convert input to DataFrame following your test code logic\n",
    "    new_data = pd.DataFrame({\n",
    "        'age': [input_data.age],\n",
    "        'sex': [input_data.sex],\n",
    "        'bmi': [input_data.bmi],\n",
    "        'children': [input_data.children],\n",
    "        'smoker': [input_data.smoker],\n",
    "        'region': [input_data.region]\n",
    "    })\n",
    "    \n",
    "    # Apply preprocessing\n",
    "    # new_data['smoker'] = new_data['smoker'].map(smoker_map)\n",
    "    # new_data.drop(columns=['sex', 'region'], inplace=True)\n",
    "    \n",
    "    # Predict\n",
    "    prediction = model.predict(new_data)[0]\n",
    "    return {\"predicted_charges\": round(float(prediction), 2)}\n"
   ]
  },
  {
   "cell_type": "code",
   "execution_count": 11,
   "id": "4b2a1a38-7965-4000-85a6-20211419ca83",
   "metadata": {},
   "outputs": [],
   "source": [
    "import uvicorn\n",
    "import asyncio"
   ]
  },
  {
   "cell_type": "code",
   "execution_count": 15,
   "id": "686a83ff-de1b-46c1-981d-630b78600f75",
   "metadata": {},
   "outputs": [],
   "source": [
    "app = FastAPI()\n",
    "\n",
    "@app.get(\"/\")\n",
    "async def home():\n",
    "    return {\"message\": \"Hello, FastAPI!\"}\n",
    "\n",
    "async def run():\n",
    "    config = uvicorn.Config(app, host=\"127.0.0.1\", port=8000)\n",
    "    server = uvicorn.Server(config)\n",
    "    await server.serve()\n",
    "\n"
   ]
  },
  {
   "cell_type": "code",
   "execution_count": 16,
   "id": "c77c8550-6da7-4762-9a1d-696750e45521",
   "metadata": {},
   "outputs": [
    {
     "ename": "RuntimeError",
     "evalue": "asyncio.run() cannot be called from a running event loop",
     "output_type": "error",
     "traceback": [
      "\u001b[1;31m---------------------------------------------------------------------------\u001b[0m",
      "\u001b[1;31mRuntimeError\u001b[0m                              Traceback (most recent call last)",
      "Cell \u001b[1;32mIn[16], line 2\u001b[0m\n\u001b[0;32m      1\u001b[0m \u001b[38;5;28;01mif\u001b[39;00m \u001b[38;5;18m__name__\u001b[39m \u001b[38;5;241m==\u001b[39m \u001b[38;5;124m\"\u001b[39m\u001b[38;5;124m__main__\u001b[39m\u001b[38;5;124m\"\u001b[39m:\n\u001b[1;32m----> 2\u001b[0m     \u001b[43masyncio\u001b[49m\u001b[38;5;241;43m.\u001b[39;49m\u001b[43mrun\u001b[49m\u001b[43m(\u001b[49m\u001b[43mrun\u001b[49m\u001b[43m(\u001b[49m\u001b[43m)\u001b[49m\u001b[43m)\u001b[49m\n",
      "File \u001b[1;32m~\\anaconda3\\lib\\asyncio\\runners.py:33\u001b[0m, in \u001b[0;36mrun\u001b[1;34m(main, debug)\u001b[0m\n\u001b[0;32m      9\u001b[0m \u001b[38;5;250m\u001b[39m\u001b[38;5;124;03m\"\"\"Execute the coroutine and return the result.\u001b[39;00m\n\u001b[0;32m     10\u001b[0m \n\u001b[0;32m     11\u001b[0m \u001b[38;5;124;03mThis function runs the passed coroutine, taking care of\u001b[39;00m\n\u001b[1;32m   (...)\u001b[0m\n\u001b[0;32m     30\u001b[0m \u001b[38;5;124;03m    asyncio.run(main())\u001b[39;00m\n\u001b[0;32m     31\u001b[0m \u001b[38;5;124;03m\"\"\"\u001b[39;00m\n\u001b[0;32m     32\u001b[0m \u001b[38;5;28;01mif\u001b[39;00m events\u001b[38;5;241m.\u001b[39m_get_running_loop() \u001b[38;5;129;01mis\u001b[39;00m \u001b[38;5;129;01mnot\u001b[39;00m \u001b[38;5;28;01mNone\u001b[39;00m:\n\u001b[1;32m---> 33\u001b[0m     \u001b[38;5;28;01mraise\u001b[39;00m \u001b[38;5;167;01mRuntimeError\u001b[39;00m(\n\u001b[0;32m     34\u001b[0m         \u001b[38;5;124m\"\u001b[39m\u001b[38;5;124masyncio.run() cannot be called from a running event loop\u001b[39m\u001b[38;5;124m\"\u001b[39m)\n\u001b[0;32m     36\u001b[0m \u001b[38;5;28;01mif\u001b[39;00m \u001b[38;5;129;01mnot\u001b[39;00m coroutines\u001b[38;5;241m.\u001b[39miscoroutine(main):\n\u001b[0;32m     37\u001b[0m     \u001b[38;5;28;01mraise\u001b[39;00m \u001b[38;5;167;01mValueError\u001b[39;00m(\u001b[38;5;124m\"\u001b[39m\u001b[38;5;124ma coroutine was expected, got \u001b[39m\u001b[38;5;132;01m{!r}\u001b[39;00m\u001b[38;5;124m\"\u001b[39m\u001b[38;5;241m.\u001b[39mformat(main))\n",
      "\u001b[1;31mRuntimeError\u001b[0m: asyncio.run() cannot be called from a running event loop"
     ]
    }
   ],
   "source": [
    "if __name__ == \"__main__\":\n",
    "    asyncio.run(run())"
   ]
  },
  {
   "cell_type": "code",
   "execution_count": null,
   "id": "cbe7e1d1-5d38-4c9d-99bf-78f2aec35b6e",
   "metadata": {},
   "outputs": [],
   "source": []
  },
  {
   "cell_type": "code",
   "execution_count": null,
   "id": "ca43e826-0caf-4098-8aef-c2f520959a3d",
   "metadata": {},
   "outputs": [],
   "source": []
  },
  {
   "cell_type": "code",
   "execution_count": 10,
   "id": "1ea646e8-c05a-4a85-9c20-fd4e9d958e56",
   "metadata": {},
   "outputs": [
    {
     "ename": "RuntimeError",
     "evalue": "asyncio.run() cannot be called from a running event loop",
     "output_type": "error",
     "traceback": [
      "\u001b[1;31m---------------------------------------------------------------------------\u001b[0m",
      "\u001b[1;31mRuntimeError\u001b[0m                              Traceback (most recent call last)",
      "Cell \u001b[1;32mIn[10], line 2\u001b[0m\n\u001b[0;32m      1\u001b[0m \u001b[38;5;28;01mif\u001b[39;00m \u001b[38;5;18m__name__\u001b[39m \u001b[38;5;241m==\u001b[39m \u001b[38;5;124m\"\u001b[39m\u001b[38;5;124m__main__\u001b[39m\u001b[38;5;124m\"\u001b[39m:\n\u001b[1;32m----> 2\u001b[0m     \u001b[43muvicorn\u001b[49m\u001b[38;5;241;43m.\u001b[39;49m\u001b[43mrun\u001b[49m\u001b[43m(\u001b[49m\u001b[43mapp\u001b[49m\u001b[43m,\u001b[49m\u001b[43m \u001b[49m\u001b[43mhost\u001b[49m\u001b[38;5;241;43m=\u001b[39;49m\u001b[38;5;124;43m\"\u001b[39;49m\u001b[38;5;124;43m127.0.0.1\u001b[39;49m\u001b[38;5;124;43m\"\u001b[39;49m\u001b[43m,\u001b[49m\u001b[43m \u001b[49m\u001b[43mport\u001b[49m\u001b[38;5;241;43m=\u001b[39;49m\u001b[38;5;241;43m8000\u001b[39;49m\u001b[43m,\u001b[49m\u001b[43m \u001b[49m\u001b[43mloop\u001b[49m\u001b[38;5;241;43m=\u001b[39;49m\u001b[38;5;124;43m\"\u001b[39;49m\u001b[38;5;124;43mnone\u001b[39;49m\u001b[38;5;124;43m\"\u001b[39;49m\u001b[43m)\u001b[49m\n",
      "File \u001b[1;32m~\\anaconda3\\lib\\site-packages\\uvicorn\\main.py:579\u001b[0m, in \u001b[0;36mrun\u001b[1;34m(app, host, port, uds, fd, loop, http, ws, ws_max_size, ws_max_queue, ws_ping_interval, ws_ping_timeout, ws_per_message_deflate, lifespan, interface, reload, reload_dirs, reload_includes, reload_excludes, reload_delay, workers, env_file, log_config, log_level, access_log, proxy_headers, server_header, date_header, forwarded_allow_ips, root_path, limit_concurrency, backlog, limit_max_requests, timeout_keep_alive, timeout_graceful_shutdown, ssl_keyfile, ssl_certfile, ssl_keyfile_password, ssl_version, ssl_cert_reqs, ssl_ca_certs, ssl_ciphers, headers, use_colors, app_dir, factory, h11_max_incomplete_event_size)\u001b[0m\n\u001b[0;32m    577\u001b[0m         Multiprocess(config, target\u001b[38;5;241m=\u001b[39mserver\u001b[38;5;241m.\u001b[39mrun, sockets\u001b[38;5;241m=\u001b[39m[sock])\u001b[38;5;241m.\u001b[39mrun()\n\u001b[0;32m    578\u001b[0m     \u001b[38;5;28;01melse\u001b[39;00m:\n\u001b[1;32m--> 579\u001b[0m         \u001b[43mserver\u001b[49m\u001b[38;5;241;43m.\u001b[39;49m\u001b[43mrun\u001b[49m\u001b[43m(\u001b[49m\u001b[43m)\u001b[49m\n\u001b[0;32m    580\u001b[0m \u001b[38;5;28;01mexcept\u001b[39;00m \u001b[38;5;167;01mKeyboardInterrupt\u001b[39;00m:\n\u001b[0;32m    581\u001b[0m     \u001b[38;5;28;01mpass\u001b[39;00m  \u001b[38;5;66;03m# pragma: full coverage\u001b[39;00m\n",
      "File \u001b[1;32m~\\anaconda3\\lib\\site-packages\\uvicorn\\server.py:66\u001b[0m, in \u001b[0;36mServer.run\u001b[1;34m(self, sockets)\u001b[0m\n\u001b[0;32m     64\u001b[0m \u001b[38;5;28;01mdef\u001b[39;00m\u001b[38;5;250m \u001b[39m\u001b[38;5;21mrun\u001b[39m(\u001b[38;5;28mself\u001b[39m, sockets: \u001b[38;5;28mlist\u001b[39m[socket\u001b[38;5;241m.\u001b[39msocket] \u001b[38;5;241m|\u001b[39m \u001b[38;5;28;01mNone\u001b[39;00m \u001b[38;5;241m=\u001b[39m \u001b[38;5;28;01mNone\u001b[39;00m) \u001b[38;5;241m-\u001b[39m\u001b[38;5;241m>\u001b[39m \u001b[38;5;28;01mNone\u001b[39;00m:\n\u001b[0;32m     65\u001b[0m     \u001b[38;5;28mself\u001b[39m\u001b[38;5;241m.\u001b[39mconfig\u001b[38;5;241m.\u001b[39msetup_event_loop()\n\u001b[1;32m---> 66\u001b[0m     \u001b[38;5;28;01mreturn\u001b[39;00m \u001b[43masyncio\u001b[49m\u001b[38;5;241;43m.\u001b[39;49m\u001b[43mrun\u001b[49m\u001b[43m(\u001b[49m\u001b[38;5;28;43mself\u001b[39;49m\u001b[38;5;241;43m.\u001b[39;49m\u001b[43mserve\u001b[49m\u001b[43m(\u001b[49m\u001b[43msockets\u001b[49m\u001b[38;5;241;43m=\u001b[39;49m\u001b[43msockets\u001b[49m\u001b[43m)\u001b[49m\u001b[43m)\u001b[49m\n",
      "File \u001b[1;32m~\\anaconda3\\lib\\asyncio\\runners.py:33\u001b[0m, in \u001b[0;36mrun\u001b[1;34m(main, debug)\u001b[0m\n\u001b[0;32m      9\u001b[0m \u001b[38;5;250m\u001b[39m\u001b[38;5;124;03m\"\"\"Execute the coroutine and return the result.\u001b[39;00m\n\u001b[0;32m     10\u001b[0m \n\u001b[0;32m     11\u001b[0m \u001b[38;5;124;03mThis function runs the passed coroutine, taking care of\u001b[39;00m\n\u001b[1;32m   (...)\u001b[0m\n\u001b[0;32m     30\u001b[0m \u001b[38;5;124;03m    asyncio.run(main())\u001b[39;00m\n\u001b[0;32m     31\u001b[0m \u001b[38;5;124;03m\"\"\"\u001b[39;00m\n\u001b[0;32m     32\u001b[0m \u001b[38;5;28;01mif\u001b[39;00m events\u001b[38;5;241m.\u001b[39m_get_running_loop() \u001b[38;5;129;01mis\u001b[39;00m \u001b[38;5;129;01mnot\u001b[39;00m \u001b[38;5;28;01mNone\u001b[39;00m:\n\u001b[1;32m---> 33\u001b[0m     \u001b[38;5;28;01mraise\u001b[39;00m \u001b[38;5;167;01mRuntimeError\u001b[39;00m(\n\u001b[0;32m     34\u001b[0m         \u001b[38;5;124m\"\u001b[39m\u001b[38;5;124masyncio.run() cannot be called from a running event loop\u001b[39m\u001b[38;5;124m\"\u001b[39m)\n\u001b[0;32m     36\u001b[0m \u001b[38;5;28;01mif\u001b[39;00m \u001b[38;5;129;01mnot\u001b[39;00m coroutines\u001b[38;5;241m.\u001b[39miscoroutine(main):\n\u001b[0;32m     37\u001b[0m     \u001b[38;5;28;01mraise\u001b[39;00m \u001b[38;5;167;01mValueError\u001b[39;00m(\u001b[38;5;124m\"\u001b[39m\u001b[38;5;124ma coroutine was expected, got \u001b[39m\u001b[38;5;132;01m{!r}\u001b[39;00m\u001b[38;5;124m\"\u001b[39m\u001b[38;5;241m.\u001b[39mformat(main))\n",
      "\u001b[1;31mRuntimeError\u001b[0m: asyncio.run() cannot be called from a running event loop"
     ]
    }
   ],
   "source": [
    "if __name__ == \"__main__\":\n",
    "    uvicorn.run(app, host=\"127.0.0.1\", port=8000, loop=\"none\")"
   ]
  },
  {
   "cell_type": "code",
   "execution_count": null,
   "id": "c3806fb9-007c-4289-b467-daf78e0971c6",
   "metadata": {},
   "outputs": [],
   "source": []
  },
  {
   "cell_type": "code",
   "execution_count": null,
   "id": "a1807ca4-2c3c-48cc-ab03-a0a3facf3305",
   "metadata": {},
   "outputs": [],
   "source": []
  },
  {
   "cell_type": "code",
   "execution_count": 25,
   "id": "27872927-7ef8-4a1b-8778-d6944b31490d",
   "metadata": {},
   "outputs": [
    {
     "ename": "FastAPIError",
     "evalue": "Invalid args for response field! Hint: check that <class '__main__.InsuranceInput'> is a valid Pydantic field type. If you are using a return type annotation that is not a valid Pydantic field (e.g. Union[Response, dict, None]) you can disable generating the response model from the type annotation with the path operation decorator parameter response_model=None. Read more: https://fastapi.tiangolo.com/tutorial/response-model/",
     "output_type": "error",
     "traceback": [
      "\u001b[1;31m---------------------------------------------------------------------------\u001b[0m",
      "\u001b[1;31mFastAPIError\u001b[0m                              Traceback (most recent call last)",
      "Cell \u001b[1;32mIn[25], line 21\u001b[0m\n\u001b[0;32m     17\u001b[0m         \u001b[38;5;28mself\u001b[39m\u001b[38;5;241m.\u001b[39msmoker \u001b[38;5;241m=\u001b[39m smoker\n\u001b[0;32m     18\u001b[0m         \u001b[38;5;28mself\u001b[39m\u001b[38;5;241m.\u001b[39mregion \u001b[38;5;241m=\u001b[39m region\n\u001b[0;32m     20\u001b[0m \u001b[38;5;129;43m@app\u001b[39;49m\u001b[38;5;241;43m.\u001b[39;49m\u001b[43mpost\u001b[49m\u001b[43m(\u001b[49m\u001b[38;5;124;43m\"\u001b[39;49m\u001b[38;5;124;43m/predict\u001b[39;49m\u001b[38;5;124;43m\"\u001b[39;49m\u001b[43m)\u001b[49m\n\u001b[1;32m---> 21\u001b[0m \u001b[38;5;28;43;01mdef\u001b[39;49;00m\u001b[38;5;250;43m \u001b[39;49m\u001b[38;5;21;43mpredict_charges\u001b[39;49m\u001b[43m(\u001b[49m\u001b[43minput_data\u001b[49m\u001b[43m:\u001b[49m\u001b[43m \u001b[49m\u001b[43mInsuranceInput\u001b[49m\u001b[43m)\u001b[49m\u001b[43m:\u001b[49m\n\u001b[0;32m     22\u001b[0m \u001b[43m    \u001b[49m\u001b[43mnew_data\u001b[49m\u001b[43m \u001b[49m\u001b[38;5;241;43m=\u001b[39;49m\u001b[43m \u001b[49m\u001b[43mpd\u001b[49m\u001b[38;5;241;43m.\u001b[39;49m\u001b[43mDataFrame\u001b[49m\u001b[43m(\u001b[49m\u001b[43m{\u001b[49m\n\u001b[0;32m     23\u001b[0m \u001b[43m        \u001b[49m\u001b[38;5;124;43m'\u001b[39;49m\u001b[38;5;124;43mage\u001b[39;49m\u001b[38;5;124;43m'\u001b[39;49m\u001b[43m:\u001b[49m\u001b[43m \u001b[49m\u001b[43m[\u001b[49m\u001b[43minput_data\u001b[49m\u001b[38;5;241;43m.\u001b[39;49m\u001b[43mage\u001b[49m\u001b[43m]\u001b[49m\u001b[43m,\u001b[49m\n\u001b[0;32m     24\u001b[0m \u001b[43m        \u001b[49m\u001b[38;5;124;43m'\u001b[39;49m\u001b[38;5;124;43msex\u001b[39;49m\u001b[38;5;124;43m'\u001b[39;49m\u001b[43m:\u001b[49m\u001b[43m \u001b[49m\u001b[43m[\u001b[49m\u001b[43minput_data\u001b[49m\u001b[38;5;241;43m.\u001b[39;49m\u001b[43msex\u001b[49m\u001b[43m]\u001b[49m\u001b[43m,\u001b[49m\n\u001b[1;32m   (...)\u001b[0m\n\u001b[0;32m     28\u001b[0m \u001b[43m        \u001b[49m\u001b[38;5;124;43m'\u001b[39;49m\u001b[38;5;124;43mregion\u001b[39;49m\u001b[38;5;124;43m'\u001b[39;49m\u001b[43m:\u001b[49m\u001b[43m \u001b[49m\u001b[43m[\u001b[49m\u001b[43minput_data\u001b[49m\u001b[38;5;241;43m.\u001b[39;49m\u001b[43mregion\u001b[49m\u001b[43m]\u001b[49m\n\u001b[0;32m     29\u001b[0m \u001b[43m    \u001b[49m\u001b[43m}\u001b[49m\u001b[43m)\u001b[49m\n\u001b[0;32m     31\u001b[0m \u001b[43m    \u001b[49m\u001b[38;5;66;43;03m# Apply preprocessing (uncomment and modify accordingly)\u001b[39;49;00m\n\u001b[0;32m     32\u001b[0m \u001b[43m    \u001b[49m\u001b[38;5;66;43;03m# new_data['smoker'] = new_data['smoker'].map(smoker_map)\u001b[39;49;00m\n\u001b[0;32m     33\u001b[0m \u001b[43m    \u001b[49m\u001b[38;5;66;43;03m# new_data.drop(columns=['sex', 'region'], inplace=True)\u001b[39;49;00m\n\u001b[0;32m     34\u001b[0m \n\u001b[0;32m     35\u001b[0m \u001b[43m    \u001b[49m\u001b[38;5;66;43;03m# Predict\u001b[39;49;00m\n",
      "File \u001b[1;32m~\\anaconda3\\lib\\site-packages\\fastapi\\routing.py:994\u001b[0m, in \u001b[0;36mAPIRouter.api_route.<locals>.decorator\u001b[1;34m(func)\u001b[0m\n\u001b[0;32m    993\u001b[0m \u001b[38;5;28;01mdef\u001b[39;00m\u001b[38;5;250m \u001b[39m\u001b[38;5;21mdecorator\u001b[39m(func: DecoratedCallable) \u001b[38;5;241m-\u001b[39m\u001b[38;5;241m>\u001b[39m DecoratedCallable:\n\u001b[1;32m--> 994\u001b[0m     \u001b[38;5;28;43mself\u001b[39;49m\u001b[38;5;241;43m.\u001b[39;49m\u001b[43madd_api_route\u001b[49m\u001b[43m(\u001b[49m\n\u001b[0;32m    995\u001b[0m \u001b[43m        \u001b[49m\u001b[43mpath\u001b[49m\u001b[43m,\u001b[49m\n\u001b[0;32m    996\u001b[0m \u001b[43m        \u001b[49m\u001b[43mfunc\u001b[49m\u001b[43m,\u001b[49m\n\u001b[0;32m    997\u001b[0m \u001b[43m        \u001b[49m\u001b[43mresponse_model\u001b[49m\u001b[38;5;241;43m=\u001b[39;49m\u001b[43mresponse_model\u001b[49m\u001b[43m,\u001b[49m\n\u001b[0;32m    998\u001b[0m \u001b[43m        \u001b[49m\u001b[43mstatus_code\u001b[49m\u001b[38;5;241;43m=\u001b[39;49m\u001b[43mstatus_code\u001b[49m\u001b[43m,\u001b[49m\n\u001b[0;32m    999\u001b[0m \u001b[43m        \u001b[49m\u001b[43mtags\u001b[49m\u001b[38;5;241;43m=\u001b[39;49m\u001b[43mtags\u001b[49m\u001b[43m,\u001b[49m\n\u001b[0;32m   1000\u001b[0m \u001b[43m        \u001b[49m\u001b[43mdependencies\u001b[49m\u001b[38;5;241;43m=\u001b[39;49m\u001b[43mdependencies\u001b[49m\u001b[43m,\u001b[49m\n\u001b[0;32m   1001\u001b[0m \u001b[43m        \u001b[49m\u001b[43msummary\u001b[49m\u001b[38;5;241;43m=\u001b[39;49m\u001b[43msummary\u001b[49m\u001b[43m,\u001b[49m\n\u001b[0;32m   1002\u001b[0m \u001b[43m        \u001b[49m\u001b[43mdescription\u001b[49m\u001b[38;5;241;43m=\u001b[39;49m\u001b[43mdescription\u001b[49m\u001b[43m,\u001b[49m\n\u001b[0;32m   1003\u001b[0m \u001b[43m        \u001b[49m\u001b[43mresponse_description\u001b[49m\u001b[38;5;241;43m=\u001b[39;49m\u001b[43mresponse_description\u001b[49m\u001b[43m,\u001b[49m\n\u001b[0;32m   1004\u001b[0m \u001b[43m        \u001b[49m\u001b[43mresponses\u001b[49m\u001b[38;5;241;43m=\u001b[39;49m\u001b[43mresponses\u001b[49m\u001b[43m,\u001b[49m\n\u001b[0;32m   1005\u001b[0m \u001b[43m        \u001b[49m\u001b[43mdeprecated\u001b[49m\u001b[38;5;241;43m=\u001b[39;49m\u001b[43mdeprecated\u001b[49m\u001b[43m,\u001b[49m\n\u001b[0;32m   1006\u001b[0m \u001b[43m        \u001b[49m\u001b[43mmethods\u001b[49m\u001b[38;5;241;43m=\u001b[39;49m\u001b[43mmethods\u001b[49m\u001b[43m,\u001b[49m\n\u001b[0;32m   1007\u001b[0m \u001b[43m        \u001b[49m\u001b[43moperation_id\u001b[49m\u001b[38;5;241;43m=\u001b[39;49m\u001b[43moperation_id\u001b[49m\u001b[43m,\u001b[49m\n\u001b[0;32m   1008\u001b[0m \u001b[43m        \u001b[49m\u001b[43mresponse_model_include\u001b[49m\u001b[38;5;241;43m=\u001b[39;49m\u001b[43mresponse_model_include\u001b[49m\u001b[43m,\u001b[49m\n\u001b[0;32m   1009\u001b[0m \u001b[43m        \u001b[49m\u001b[43mresponse_model_exclude\u001b[49m\u001b[38;5;241;43m=\u001b[39;49m\u001b[43mresponse_model_exclude\u001b[49m\u001b[43m,\u001b[49m\n\u001b[0;32m   1010\u001b[0m \u001b[43m        \u001b[49m\u001b[43mresponse_model_by_alias\u001b[49m\u001b[38;5;241;43m=\u001b[39;49m\u001b[43mresponse_model_by_alias\u001b[49m\u001b[43m,\u001b[49m\n\u001b[0;32m   1011\u001b[0m \u001b[43m        \u001b[49m\u001b[43mresponse_model_exclude_unset\u001b[49m\u001b[38;5;241;43m=\u001b[39;49m\u001b[43mresponse_model_exclude_unset\u001b[49m\u001b[43m,\u001b[49m\n\u001b[0;32m   1012\u001b[0m \u001b[43m        \u001b[49m\u001b[43mresponse_model_exclude_defaults\u001b[49m\u001b[38;5;241;43m=\u001b[39;49m\u001b[43mresponse_model_exclude_defaults\u001b[49m\u001b[43m,\u001b[49m\n\u001b[0;32m   1013\u001b[0m \u001b[43m        \u001b[49m\u001b[43mresponse_model_exclude_none\u001b[49m\u001b[38;5;241;43m=\u001b[39;49m\u001b[43mresponse_model_exclude_none\u001b[49m\u001b[43m,\u001b[49m\n\u001b[0;32m   1014\u001b[0m \u001b[43m        \u001b[49m\u001b[43minclude_in_schema\u001b[49m\u001b[38;5;241;43m=\u001b[39;49m\u001b[43minclude_in_schema\u001b[49m\u001b[43m,\u001b[49m\n\u001b[0;32m   1015\u001b[0m \u001b[43m        \u001b[49m\u001b[43mresponse_class\u001b[49m\u001b[38;5;241;43m=\u001b[39;49m\u001b[43mresponse_class\u001b[49m\u001b[43m,\u001b[49m\n\u001b[0;32m   1016\u001b[0m \u001b[43m        \u001b[49m\u001b[43mname\u001b[49m\u001b[38;5;241;43m=\u001b[39;49m\u001b[43mname\u001b[49m\u001b[43m,\u001b[49m\n\u001b[0;32m   1017\u001b[0m \u001b[43m        \u001b[49m\u001b[43mcallbacks\u001b[49m\u001b[38;5;241;43m=\u001b[39;49m\u001b[43mcallbacks\u001b[49m\u001b[43m,\u001b[49m\n\u001b[0;32m   1018\u001b[0m \u001b[43m        \u001b[49m\u001b[43mopenapi_extra\u001b[49m\u001b[38;5;241;43m=\u001b[39;49m\u001b[43mopenapi_extra\u001b[49m\u001b[43m,\u001b[49m\n\u001b[0;32m   1019\u001b[0m \u001b[43m        \u001b[49m\u001b[43mgenerate_unique_id_function\u001b[49m\u001b[38;5;241;43m=\u001b[39;49m\u001b[43mgenerate_unique_id_function\u001b[49m\u001b[43m,\u001b[49m\n\u001b[0;32m   1020\u001b[0m \u001b[43m    \u001b[49m\u001b[43m)\u001b[49m\n\u001b[0;32m   1021\u001b[0m     \u001b[38;5;28;01mreturn\u001b[39;00m func\n",
      "File \u001b[1;32m~\\anaconda3\\lib\\site-packages\\fastapi\\routing.py:933\u001b[0m, in \u001b[0;36mAPIRouter.add_api_route\u001b[1;34m(self, path, endpoint, response_model, status_code, tags, dependencies, summary, description, response_description, responses, deprecated, methods, operation_id, response_model_include, response_model_exclude, response_model_by_alias, response_model_exclude_unset, response_model_exclude_defaults, response_model_exclude_none, include_in_schema, response_class, name, route_class_override, callbacks, openapi_extra, generate_unique_id_function)\u001b[0m\n\u001b[0;32m    929\u001b[0m     current_callbacks\u001b[38;5;241m.\u001b[39mextend(callbacks)\n\u001b[0;32m    930\u001b[0m current_generate_unique_id \u001b[38;5;241m=\u001b[39m get_value_or_default(\n\u001b[0;32m    931\u001b[0m     generate_unique_id_function, \u001b[38;5;28mself\u001b[39m\u001b[38;5;241m.\u001b[39mgenerate_unique_id_function\n\u001b[0;32m    932\u001b[0m )\n\u001b[1;32m--> 933\u001b[0m route \u001b[38;5;241m=\u001b[39m \u001b[43mroute_class\u001b[49m\u001b[43m(\u001b[49m\n\u001b[0;32m    934\u001b[0m \u001b[43m    \u001b[49m\u001b[38;5;28;43mself\u001b[39;49m\u001b[38;5;241;43m.\u001b[39;49m\u001b[43mprefix\u001b[49m\u001b[43m \u001b[49m\u001b[38;5;241;43m+\u001b[39;49m\u001b[43m \u001b[49m\u001b[43mpath\u001b[49m\u001b[43m,\u001b[49m\n\u001b[0;32m    935\u001b[0m \u001b[43m    \u001b[49m\u001b[43mendpoint\u001b[49m\u001b[38;5;241;43m=\u001b[39;49m\u001b[43mendpoint\u001b[49m\u001b[43m,\u001b[49m\n\u001b[0;32m    936\u001b[0m \u001b[43m    \u001b[49m\u001b[43mresponse_model\u001b[49m\u001b[38;5;241;43m=\u001b[39;49m\u001b[43mresponse_model\u001b[49m\u001b[43m,\u001b[49m\n\u001b[0;32m    937\u001b[0m \u001b[43m    \u001b[49m\u001b[43mstatus_code\u001b[49m\u001b[38;5;241;43m=\u001b[39;49m\u001b[43mstatus_code\u001b[49m\u001b[43m,\u001b[49m\n\u001b[0;32m    938\u001b[0m \u001b[43m    \u001b[49m\u001b[43mtags\u001b[49m\u001b[38;5;241;43m=\u001b[39;49m\u001b[43mcurrent_tags\u001b[49m\u001b[43m,\u001b[49m\n\u001b[0;32m    939\u001b[0m \u001b[43m    \u001b[49m\u001b[43mdependencies\u001b[49m\u001b[38;5;241;43m=\u001b[39;49m\u001b[43mcurrent_dependencies\u001b[49m\u001b[43m,\u001b[49m\n\u001b[0;32m    940\u001b[0m \u001b[43m    \u001b[49m\u001b[43msummary\u001b[49m\u001b[38;5;241;43m=\u001b[39;49m\u001b[43msummary\u001b[49m\u001b[43m,\u001b[49m\n\u001b[0;32m    941\u001b[0m \u001b[43m    \u001b[49m\u001b[43mdescription\u001b[49m\u001b[38;5;241;43m=\u001b[39;49m\u001b[43mdescription\u001b[49m\u001b[43m,\u001b[49m\n\u001b[0;32m    942\u001b[0m \u001b[43m    \u001b[49m\u001b[43mresponse_description\u001b[49m\u001b[38;5;241;43m=\u001b[39;49m\u001b[43mresponse_description\u001b[49m\u001b[43m,\u001b[49m\n\u001b[0;32m    943\u001b[0m \u001b[43m    \u001b[49m\u001b[43mresponses\u001b[49m\u001b[38;5;241;43m=\u001b[39;49m\u001b[43mcombined_responses\u001b[49m\u001b[43m,\u001b[49m\n\u001b[0;32m    944\u001b[0m \u001b[43m    \u001b[49m\u001b[43mdeprecated\u001b[49m\u001b[38;5;241;43m=\u001b[39;49m\u001b[43mdeprecated\u001b[49m\u001b[43m \u001b[49m\u001b[38;5;129;43;01mor\u001b[39;49;00m\u001b[43m \u001b[49m\u001b[38;5;28;43mself\u001b[39;49m\u001b[38;5;241;43m.\u001b[39;49m\u001b[43mdeprecated\u001b[49m\u001b[43m,\u001b[49m\n\u001b[0;32m    945\u001b[0m \u001b[43m    \u001b[49m\u001b[43mmethods\u001b[49m\u001b[38;5;241;43m=\u001b[39;49m\u001b[43mmethods\u001b[49m\u001b[43m,\u001b[49m\n\u001b[0;32m    946\u001b[0m \u001b[43m    \u001b[49m\u001b[43moperation_id\u001b[49m\u001b[38;5;241;43m=\u001b[39;49m\u001b[43moperation_id\u001b[49m\u001b[43m,\u001b[49m\n\u001b[0;32m    947\u001b[0m \u001b[43m    \u001b[49m\u001b[43mresponse_model_include\u001b[49m\u001b[38;5;241;43m=\u001b[39;49m\u001b[43mresponse_model_include\u001b[49m\u001b[43m,\u001b[49m\n\u001b[0;32m    948\u001b[0m \u001b[43m    \u001b[49m\u001b[43mresponse_model_exclude\u001b[49m\u001b[38;5;241;43m=\u001b[39;49m\u001b[43mresponse_model_exclude\u001b[49m\u001b[43m,\u001b[49m\n\u001b[0;32m    949\u001b[0m \u001b[43m    \u001b[49m\u001b[43mresponse_model_by_alias\u001b[49m\u001b[38;5;241;43m=\u001b[39;49m\u001b[43mresponse_model_by_alias\u001b[49m\u001b[43m,\u001b[49m\n\u001b[0;32m    950\u001b[0m \u001b[43m    \u001b[49m\u001b[43mresponse_model_exclude_unset\u001b[49m\u001b[38;5;241;43m=\u001b[39;49m\u001b[43mresponse_model_exclude_unset\u001b[49m\u001b[43m,\u001b[49m\n\u001b[0;32m    951\u001b[0m \u001b[43m    \u001b[49m\u001b[43mresponse_model_exclude_defaults\u001b[49m\u001b[38;5;241;43m=\u001b[39;49m\u001b[43mresponse_model_exclude_defaults\u001b[49m\u001b[43m,\u001b[49m\n\u001b[0;32m    952\u001b[0m \u001b[43m    \u001b[49m\u001b[43mresponse_model_exclude_none\u001b[49m\u001b[38;5;241;43m=\u001b[39;49m\u001b[43mresponse_model_exclude_none\u001b[49m\u001b[43m,\u001b[49m\n\u001b[0;32m    953\u001b[0m \u001b[43m    \u001b[49m\u001b[43minclude_in_schema\u001b[49m\u001b[38;5;241;43m=\u001b[39;49m\u001b[43minclude_in_schema\u001b[49m\u001b[43m \u001b[49m\u001b[38;5;129;43;01mand\u001b[39;49;00m\u001b[43m \u001b[49m\u001b[38;5;28;43mself\u001b[39;49m\u001b[38;5;241;43m.\u001b[39;49m\u001b[43minclude_in_schema\u001b[49m\u001b[43m,\u001b[49m\n\u001b[0;32m    954\u001b[0m \u001b[43m    \u001b[49m\u001b[43mresponse_class\u001b[49m\u001b[38;5;241;43m=\u001b[39;49m\u001b[43mcurrent_response_class\u001b[49m\u001b[43m,\u001b[49m\n\u001b[0;32m    955\u001b[0m \u001b[43m    \u001b[49m\u001b[43mname\u001b[49m\u001b[38;5;241;43m=\u001b[39;49m\u001b[43mname\u001b[49m\u001b[43m,\u001b[49m\n\u001b[0;32m    956\u001b[0m \u001b[43m    \u001b[49m\u001b[43mdependency_overrides_provider\u001b[49m\u001b[38;5;241;43m=\u001b[39;49m\u001b[38;5;28;43mself\u001b[39;49m\u001b[38;5;241;43m.\u001b[39;49m\u001b[43mdependency_overrides_provider\u001b[49m\u001b[43m,\u001b[49m\n\u001b[0;32m    957\u001b[0m \u001b[43m    \u001b[49m\u001b[43mcallbacks\u001b[49m\u001b[38;5;241;43m=\u001b[39;49m\u001b[43mcurrent_callbacks\u001b[49m\u001b[43m,\u001b[49m\n\u001b[0;32m    958\u001b[0m \u001b[43m    \u001b[49m\u001b[43mopenapi_extra\u001b[49m\u001b[38;5;241;43m=\u001b[39;49m\u001b[43mopenapi_extra\u001b[49m\u001b[43m,\u001b[49m\n\u001b[0;32m    959\u001b[0m \u001b[43m    \u001b[49m\u001b[43mgenerate_unique_id_function\u001b[49m\u001b[38;5;241;43m=\u001b[39;49m\u001b[43mcurrent_generate_unique_id\u001b[49m\u001b[43m,\u001b[49m\n\u001b[0;32m    960\u001b[0m \u001b[43m\u001b[49m\u001b[43m)\u001b[49m\n\u001b[0;32m    961\u001b[0m \u001b[38;5;28mself\u001b[39m\u001b[38;5;241m.\u001b[39mroutes\u001b[38;5;241m.\u001b[39mappend(route)\n",
      "File \u001b[1;32m~\\anaconda3\\lib\\site-packages\\fastapi\\routing.py:554\u001b[0m, in \u001b[0;36mAPIRoute.__init__\u001b[1;34m(self, path, endpoint, response_model, status_code, tags, dependencies, summary, description, response_description, responses, deprecated, name, methods, operation_id, response_model_include, response_model_exclude, response_model_by_alias, response_model_exclude_unset, response_model_exclude_defaults, response_model_exclude_none, include_in_schema, response_class, dependency_overrides_provider, callbacks, openapi_extra, generate_unique_id_function)\u001b[0m\n\u001b[0;32m    551\u001b[0m     \u001b[38;5;28mself\u001b[39m\u001b[38;5;241m.\u001b[39mresponse_fields \u001b[38;5;241m=\u001b[39m {}\n\u001b[0;32m    553\u001b[0m \u001b[38;5;28;01massert\u001b[39;00m \u001b[38;5;28mcallable\u001b[39m(endpoint), \u001b[38;5;124m\"\u001b[39m\u001b[38;5;124mAn endpoint must be a callable\u001b[39m\u001b[38;5;124m\"\u001b[39m\n\u001b[1;32m--> 554\u001b[0m \u001b[38;5;28mself\u001b[39m\u001b[38;5;241m.\u001b[39mdependant \u001b[38;5;241m=\u001b[39m \u001b[43mget_dependant\u001b[49m\u001b[43m(\u001b[49m\u001b[43mpath\u001b[49m\u001b[38;5;241;43m=\u001b[39;49m\u001b[38;5;28;43mself\u001b[39;49m\u001b[38;5;241;43m.\u001b[39;49m\u001b[43mpath_format\u001b[49m\u001b[43m,\u001b[49m\u001b[43m \u001b[49m\u001b[43mcall\u001b[49m\u001b[38;5;241;43m=\u001b[39;49m\u001b[38;5;28;43mself\u001b[39;49m\u001b[38;5;241;43m.\u001b[39;49m\u001b[43mendpoint\u001b[49m\u001b[43m)\u001b[49m\n\u001b[0;32m    555\u001b[0m \u001b[38;5;28;01mfor\u001b[39;00m depends \u001b[38;5;129;01min\u001b[39;00m \u001b[38;5;28mself\u001b[39m\u001b[38;5;241m.\u001b[39mdependencies[::\u001b[38;5;241m-\u001b[39m\u001b[38;5;241m1\u001b[39m]:\n\u001b[0;32m    556\u001b[0m     \u001b[38;5;28mself\u001b[39m\u001b[38;5;241m.\u001b[39mdependant\u001b[38;5;241m.\u001b[39mdependencies\u001b[38;5;241m.\u001b[39minsert(\n\u001b[0;32m    557\u001b[0m         \u001b[38;5;241m0\u001b[39m,\n\u001b[0;32m    558\u001b[0m         get_parameterless_sub_dependant(depends\u001b[38;5;241m=\u001b[39mdepends, path\u001b[38;5;241m=\u001b[39m\u001b[38;5;28mself\u001b[39m\u001b[38;5;241m.\u001b[39mpath_format),\n\u001b[0;32m    559\u001b[0m     )\n",
      "File \u001b[1;32m~\\anaconda3\\lib\\site-packages\\fastapi\\dependencies\\utils.py:285\u001b[0m, in \u001b[0;36mget_dependant\u001b[1;34m(path, call, name, security_scopes, use_cache)\u001b[0m\n\u001b[0;32m    283\u001b[0m \u001b[38;5;28;01mfor\u001b[39;00m param_name, param \u001b[38;5;129;01min\u001b[39;00m signature_params\u001b[38;5;241m.\u001b[39mitems():\n\u001b[0;32m    284\u001b[0m     is_path_param \u001b[38;5;241m=\u001b[39m param_name \u001b[38;5;129;01min\u001b[39;00m path_param_names\n\u001b[1;32m--> 285\u001b[0m     param_details \u001b[38;5;241m=\u001b[39m \u001b[43manalyze_param\u001b[49m\u001b[43m(\u001b[49m\n\u001b[0;32m    286\u001b[0m \u001b[43m        \u001b[49m\u001b[43mparam_name\u001b[49m\u001b[38;5;241;43m=\u001b[39;49m\u001b[43mparam_name\u001b[49m\u001b[43m,\u001b[49m\n\u001b[0;32m    287\u001b[0m \u001b[43m        \u001b[49m\u001b[43mannotation\u001b[49m\u001b[38;5;241;43m=\u001b[39;49m\u001b[43mparam\u001b[49m\u001b[38;5;241;43m.\u001b[39;49m\u001b[43mannotation\u001b[49m\u001b[43m,\u001b[49m\n\u001b[0;32m    288\u001b[0m \u001b[43m        \u001b[49m\u001b[43mvalue\u001b[49m\u001b[38;5;241;43m=\u001b[39;49m\u001b[43mparam\u001b[49m\u001b[38;5;241;43m.\u001b[39;49m\u001b[43mdefault\u001b[49m\u001b[43m,\u001b[49m\n\u001b[0;32m    289\u001b[0m \u001b[43m        \u001b[49m\u001b[43mis_path_param\u001b[49m\u001b[38;5;241;43m=\u001b[39;49m\u001b[43mis_path_param\u001b[49m\u001b[43m,\u001b[49m\n\u001b[0;32m    290\u001b[0m \u001b[43m    \u001b[49m\u001b[43m)\u001b[49m\n\u001b[0;32m    291\u001b[0m     \u001b[38;5;28;01mif\u001b[39;00m param_details\u001b[38;5;241m.\u001b[39mdepends \u001b[38;5;129;01mis\u001b[39;00m \u001b[38;5;129;01mnot\u001b[39;00m \u001b[38;5;28;01mNone\u001b[39;00m:\n\u001b[0;32m    292\u001b[0m         sub_dependant \u001b[38;5;241m=\u001b[39m get_param_sub_dependant(\n\u001b[0;32m    293\u001b[0m             param_name\u001b[38;5;241m=\u001b[39mparam_name,\n\u001b[0;32m    294\u001b[0m             depends\u001b[38;5;241m=\u001b[39mparam_details\u001b[38;5;241m.\u001b[39mdepends,\n\u001b[0;32m    295\u001b[0m             path\u001b[38;5;241m=\u001b[39mpath,\n\u001b[0;32m    296\u001b[0m             security_scopes\u001b[38;5;241m=\u001b[39msecurity_scopes,\n\u001b[0;32m    297\u001b[0m         )\n",
      "File \u001b[1;32m~\\anaconda3\\lib\\site-packages\\fastapi\\dependencies\\utils.py:488\u001b[0m, in \u001b[0;36manalyze_param\u001b[1;34m(param_name, annotation, value, is_path_param)\u001b[0m\n\u001b[0;32m    486\u001b[0m     alias \u001b[38;5;241m=\u001b[39m field_info\u001b[38;5;241m.\u001b[39malias \u001b[38;5;129;01mor\u001b[39;00m param_name\n\u001b[0;32m    487\u001b[0m field_info\u001b[38;5;241m.\u001b[39malias \u001b[38;5;241m=\u001b[39m alias\n\u001b[1;32m--> 488\u001b[0m field \u001b[38;5;241m=\u001b[39m \u001b[43mcreate_model_field\u001b[49m\u001b[43m(\u001b[49m\n\u001b[0;32m    489\u001b[0m \u001b[43m    \u001b[49m\u001b[43mname\u001b[49m\u001b[38;5;241;43m=\u001b[39;49m\u001b[43mparam_name\u001b[49m\u001b[43m,\u001b[49m\n\u001b[0;32m    490\u001b[0m \u001b[43m    \u001b[49m\u001b[43mtype_\u001b[49m\u001b[38;5;241;43m=\u001b[39;49m\u001b[43muse_annotation_from_field_info\u001b[49m\u001b[43m,\u001b[49m\n\u001b[0;32m    491\u001b[0m \u001b[43m    \u001b[49m\u001b[43mdefault\u001b[49m\u001b[38;5;241;43m=\u001b[39;49m\u001b[43mfield_info\u001b[49m\u001b[38;5;241;43m.\u001b[39;49m\u001b[43mdefault\u001b[49m\u001b[43m,\u001b[49m\n\u001b[0;32m    492\u001b[0m \u001b[43m    \u001b[49m\u001b[43malias\u001b[49m\u001b[38;5;241;43m=\u001b[39;49m\u001b[43malias\u001b[49m\u001b[43m,\u001b[49m\n\u001b[0;32m    493\u001b[0m \u001b[43m    \u001b[49m\u001b[43mrequired\u001b[49m\u001b[38;5;241;43m=\u001b[39;49m\u001b[43mfield_info\u001b[49m\u001b[38;5;241;43m.\u001b[39;49m\u001b[43mdefault\u001b[49m\u001b[43m \u001b[49m\u001b[38;5;129;43;01min\u001b[39;49;00m\u001b[43m \u001b[49m\u001b[43m(\u001b[49m\u001b[43mRequiredParam\u001b[49m\u001b[43m,\u001b[49m\u001b[43m \u001b[49m\u001b[43mUndefined\u001b[49m\u001b[43m)\u001b[49m\u001b[43m,\u001b[49m\n\u001b[0;32m    494\u001b[0m \u001b[43m    \u001b[49m\u001b[43mfield_info\u001b[49m\u001b[38;5;241;43m=\u001b[39;49m\u001b[43mfield_info\u001b[49m\u001b[43m,\u001b[49m\n\u001b[0;32m    495\u001b[0m \u001b[43m\u001b[49m\u001b[43m)\u001b[49m\n\u001b[0;32m    496\u001b[0m \u001b[38;5;28;01mif\u001b[39;00m is_path_param:\n\u001b[0;32m    497\u001b[0m     \u001b[38;5;28;01massert\u001b[39;00m is_scalar_field(\n\u001b[0;32m    498\u001b[0m         field\u001b[38;5;241m=\u001b[39mfield\n\u001b[0;32m    499\u001b[0m     ), \u001b[38;5;124m\"\u001b[39m\u001b[38;5;124mPath params must be of one of the supported types\u001b[39m\u001b[38;5;124m\"\u001b[39m\n",
      "File \u001b[1;32m~\\anaconda3\\lib\\site-packages\\fastapi\\utils.py:98\u001b[0m, in \u001b[0;36mcreate_model_field\u001b[1;34m(name, type_, class_validators, default, required, model_config, field_info, alias, mode)\u001b[0m\n\u001b[0;32m     96\u001b[0m     \u001b[38;5;28;01mreturn\u001b[39;00m ModelField(\u001b[38;5;241m*\u001b[39m\u001b[38;5;241m*\u001b[39mkwargs)  \u001b[38;5;66;03m# type: ignore[arg-type]\u001b[39;00m\n\u001b[0;32m     97\u001b[0m \u001b[38;5;28;01mexcept\u001b[39;00m (\u001b[38;5;167;01mRuntimeError\u001b[39;00m, PydanticSchemaGenerationError):\n\u001b[1;32m---> 98\u001b[0m     \u001b[38;5;28;01mraise\u001b[39;00m fastapi\u001b[38;5;241m.\u001b[39mexceptions\u001b[38;5;241m.\u001b[39mFastAPIError(\n\u001b[0;32m     99\u001b[0m         \u001b[38;5;124m\"\u001b[39m\u001b[38;5;124mInvalid args for response field! Hint: \u001b[39m\u001b[38;5;124m\"\u001b[39m\n\u001b[0;32m    100\u001b[0m         \u001b[38;5;124mf\u001b[39m\u001b[38;5;124m\"\u001b[39m\u001b[38;5;124mcheck that \u001b[39m\u001b[38;5;132;01m{\u001b[39;00mtype_\u001b[38;5;132;01m}\u001b[39;00m\u001b[38;5;124m is a valid Pydantic field type. \u001b[39m\u001b[38;5;124m\"\u001b[39m\n\u001b[0;32m    101\u001b[0m         \u001b[38;5;124m\"\u001b[39m\u001b[38;5;124mIf you are using a return type annotation that is not a valid Pydantic \u001b[39m\u001b[38;5;124m\"\u001b[39m\n\u001b[0;32m    102\u001b[0m         \u001b[38;5;124m\"\u001b[39m\u001b[38;5;124mfield (e.g. Union[Response, dict, None]) you can disable generating the \u001b[39m\u001b[38;5;124m\"\u001b[39m\n\u001b[0;32m    103\u001b[0m         \u001b[38;5;124m\"\u001b[39m\u001b[38;5;124mresponse model from the type annotation with the path operation decorator \u001b[39m\u001b[38;5;124m\"\u001b[39m\n\u001b[0;32m    104\u001b[0m         \u001b[38;5;124m\"\u001b[39m\u001b[38;5;124mparameter response_model=None. Read more: \u001b[39m\u001b[38;5;124m\"\u001b[39m\n\u001b[0;32m    105\u001b[0m         \u001b[38;5;124m\"\u001b[39m\u001b[38;5;124mhttps://fastapi.tiangolo.com/tutorial/response-model/\u001b[39m\u001b[38;5;124m\"\u001b[39m\n\u001b[0;32m    106\u001b[0m     ) \u001b[38;5;28;01mfrom\u001b[39;00m\u001b[38;5;250m \u001b[39m\u001b[38;5;28;01mNone\u001b[39;00m\n",
      "\u001b[1;31mFastAPIError\u001b[0m: Invalid args for response field! Hint: check that <class '__main__.InsuranceInput'> is a valid Pydantic field type. If you are using a return type annotation that is not a valid Pydantic field (e.g. Union[Response, dict, None]) you can disable generating the response model from the type annotation with the path operation decorator parameter response_model=None. Read more: https://fastapi.tiangolo.com/tutorial/response-model/"
     ]
    }
   ],
   "source": [
    "import uvicorn\n",
    "from fastapi import FastAPI, Request\n",
    "import pandas as pd\n",
    "\n",
    "app = FastAPI()\n",
    "\n",
    "@app.get(\"/\")\n",
    "def home(request: Request):\n",
    "    return {\"message\": \"Welcome to the Insurance Prediction API\"}\n",
    "\n",
    "class InsuranceInput:\n",
    "    def __init__(self, age: int, sex: str, bmi: float, children: int, smoker: str, region: str):\n",
    "        self.age = age\n",
    "        self.sex = sex\n",
    "        self.bmi = bmi\n",
    "        self.children = children\n",
    "        self.smoker = smoker\n",
    "        self.region = region\n",
    "\n",
    "@app.post(\"/predict\")\n",
    "def predict_charges(input_data: InsuranceInput):\n",
    "    new_data = pd.DataFrame({\n",
    "        'age': [input_data.age],\n",
    "        'sex': [input_data.sex],\n",
    "        'bmi': [input_data.bmi],\n",
    "        'children': [input_data.children],\n",
    "        'smoker': [input_data.smoker],\n",
    "        'region': [input_data.region]\n",
    "    })\n",
    "    \n",
    "    # Apply preprocessing (uncomment and modify accordingly)\n",
    "    # new_data['smoker'] = new_data['smoker'].map(smoker_map)\n",
    "    # new_data.drop(columns=['sex', 'region'], inplace=True)\n",
    "\n",
    "    # Predict\n",
    "    prediction = model.predict(new_data)[0]\n",
    "    return {\"predicted_charges\": round(float(prediction), 2)}\n",
    "\n",
    "if __name__ == \"__main__\":\n",
    "    import sys\n",
    "    if \"uvicorn\" in sys.modules:\n",
    "        uvicorn.run(app, port=8000)\n",
    "    else:\n",
    "        import asyncio\n",
    "        asyncio.run(uvicorn.run(app, port=8000, loop=\"asyncio\"))\n"
   ]
  },
  {
   "cell_type": "code",
   "execution_count": 24,
   "id": "a2e43b10-4e1a-49fa-b1ec-9691eecfda9f",
   "metadata": {},
   "outputs": [
    {
     "name": "stdout",
     "output_type": "stream",
     "text": [
      "^C\n",
      "Requirement already satisfied: fastapi in c:\\users\\abdelrahman\\anaconda3\\lib\\site-packages (0.115.11)\n",
      "Requirement already satisfied: uvicorn in c:\\users\\abdelrahman\\anaconda3\\lib\\site-packages (0.34.0)\n",
      "Requirement already satisfied: pandas in c:\\users\\abdelrahman\\anaconda3\\lib\\site-packages (2.2.3)\n",
      "Requirement already satisfied: starlette<0.47.0,>=0.40.0 in c:\\users\\abdelrahman\\anaconda3\\lib\\site-packages (from fastapi) (0.46.1)\n",
      "Requirement already satisfied: pydantic!=1.8,!=1.8.1,!=2.0.0,!=2.0.1,!=2.1.0,<3.0.0,>=1.7.4 in c:\\users\\abdelrahman\\anaconda3\\lib\\site-packages (from fastapi) (2.10.6)\n",
      "Requirement already satisfied: typing-extensions>=4.8.0 in c:\\users\\abdelrahman\\anaconda3\\lib\\site-packages (from fastapi) (4.12.2)\n",
      "Requirement already satisfied: click>=7.0 in c:\\users\\abdelrahman\\anaconda3\\lib\\site-packages (from uvicorn) (8.1.8)\n",
      "Requirement already satisfied: h11>=0.8 in c:\\users\\abdelrahman\\anaconda3\\lib\\site-packages (from uvicorn) (0.14.0)\n",
      "Requirement already satisfied: numpy>=1.22.4 in c:\\users\\abdelrahman\\anaconda3\\lib\\site-packages (from pandas) (2.0.2)\n",
      "Requirement already satisfied: python-dateutil>=2.8.2 in c:\\users\\abdelrahman\\anaconda3\\lib\\site-packages (from pandas) (2.9.0.post0)\n",
      "Requirement already satisfied: pytz>=2020.1 in c:\\users\\abdelrahman\\anaconda3\\lib\\site-packages (from pandas) (2024.1)\n",
      "Requirement already satisfied: tzdata>=2022.7 in c:\\users\\abdelrahman\\anaconda3\\lib\\site-packages (from pandas) (2023.3)\n",
      "Requirement already satisfied: colorama in c:\\users\\abdelrahman\\anaconda3\\lib\\site-packages (from click>=7.0->uvicorn) (0.4.6)\n",
      "Requirement already satisfied: annotated-types>=0.6.0 in c:\\users\\abdelrahman\\anaconda3\\lib\\site-packages (from pydantic!=1.8,!=1.8.1,!=2.0.0,!=2.0.1,!=2.1.0,<3.0.0,>=1.7.4->fastapi) (0.7.0)\n",
      "Requirement already satisfied: pydantic-core==2.27.2 in c:\\users\\abdelrahman\\anaconda3\\lib\\site-packages (from pydantic!=1.8,!=1.8.1,!=2.0.0,!=2.0.1,!=2.1.0,<3.0.0,>=1.7.4->fastapi) (2.27.2)\n",
      "Requirement already satisfied: six>=1.5 in c:\\users\\abdelrahman\\anaconda3\\lib\\site-packages (from python-dateutil>=2.8.2->pandas) (1.16.0)\n",
      "Requirement already satisfied: anyio<5,>=3.6.2 in c:\\users\\abdelrahman\\anaconda3\\lib\\site-packages (from starlette<0.47.0,>=0.40.0->fastapi) (4.6.2)\n",
      "Requirement already satisfied: idna>=2.8 in c:\\users\\abdelrahman\\anaconda3\\lib\\site-packages (from anyio<5,>=3.6.2->starlette<0.47.0,>=0.40.0->fastapi) (3.10)\n",
      "Requirement already satisfied: sniffio>=1.1 in c:\\users\\abdelrahman\\anaconda3\\lib\\site-packages (from anyio<5,>=3.6.2->starlette<0.47.0,>=0.40.0->fastapi) (1.3.0)\n",
      "Requirement already satisfied: exceptiongroup>=1.0.2 in c:\\users\\abdelrahman\\anaconda3\\lib\\site-packages (from anyio<5,>=3.6.2->starlette<0.47.0,>=0.40.0->fastapi) (1.1.1)\n"
     ]
    }
   ],
   "source": [
    "!pip install fastapi uvicorn pandas"
   ]
  },
  {
   "cell_type": "code",
   "execution_count": null,
   "id": "aca799b3-6db6-4313-9cb4-4b35cff3e449",
   "metadata": {},
   "outputs": [],
   "source": [
    "!uvicorn filename:app --reload --port 8000\n"
   ]
  },
  {
   "cell_type": "code",
   "execution_count": 23,
   "id": "652cd89d-405f-4fc5-886a-6e64e4a93062",
   "metadata": {},
   "outputs": [
    {
     "name": "stderr",
     "output_type": "stream",
     "text": [
      "Usage: uvicorn [OPTIONS] APP\n",
      "Try 'uvicorn --help' for help.\n",
      "\n",
      "Error: Got unexpected extra argument (model:app)\n"
     ]
    }
   ],
   "source": [
    "!uvicorn deply model:app --reload"
   ]
  },
  {
   "cell_type": "code",
   "execution_count": null,
   "id": "540b9212-284d-4e5f-bcb5-0bff676b3aaa",
   "metadata": {},
   "outputs": [],
   "source": []
  }
 ],
 "metadata": {
  "kernelspec": {
   "display_name": "Python 3 (ipykernel)",
   "language": "python",
   "name": "python3"
  },
  "language_info": {
   "codemirror_mode": {
    "name": "ipython",
    "version": 3
   },
   "file_extension": ".py",
   "mimetype": "text/x-python",
   "name": "python",
   "nbconvert_exporter": "python",
   "pygments_lexer": "ipython3",
   "version": "3.9.21"
  }
 },
 "nbformat": 4,
 "nbformat_minor": 5
}
